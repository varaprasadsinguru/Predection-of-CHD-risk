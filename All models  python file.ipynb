{
 "cells": [
  {
   "cell_type": "code",
   "execution_count": 38,
   "id": "facf033f",
   "metadata": {
    "id": "facf033f"
   },
   "outputs": [],
   "source": [
    "import pandas as pd\n",
    "# import 'Pandas' \n",
    "import pandas as pd \n",
    "\n",
    "# import 'Numpy' \n",
    "import numpy as np\n",
    "\n",
    "# import subpackage of Matplotlib\n",
    "import matplotlib.pyplot as plt\n",
    "from matplotlib.colors import ListedColormap\n",
    "\n",
    "# import 'Seaborn' \n",
    "import seaborn as sns\n",
    "\n",
    "# to suppress warnings \n",
    "from warnings import filterwarnings\n",
    "filterwarnings('ignore')\n",
    "\n",
    "# # display all columns of the dataframe\n",
    "# pd.options.display.max_columns = None\n",
    "\n",
    "# # display all rows of the dataframe\n",
    "# pd.options.display.max_rows = None\n",
    " \n",
    "# to display the float values upto 6 decimal places     \n",
    "pd.options.display.float_format = '{:.6f}'.format\n",
    "\n",
    "# import train-test split \n",
    "from sklearn.model_selection import train_test_split\n",
    "\n",
    "# import various functions from statsmodels\n",
    "import statsmodels\n",
    "import statsmodels.api as sm\n",
    "\n",
    "# import StandardScaler to perform scaling\n",
    "from sklearn.preprocessing import StandardScaler \n",
    "\n",
    "# import various functions from sklearn \n",
    "from sklearn import metrics\n",
    "from sklearn.linear_model import LogisticRegression\n",
    "from sklearn.metrics import classification_report\n",
    "from sklearn.metrics import cohen_kappa_score\n",
    "from sklearn.metrics import confusion_matrix\n",
    "from sklearn.metrics import roc_curve\n",
    "from sklearn.metrics import accuracy_score\n",
    "from sklearn.metrics import  roc_auc_score\n",
    "\n",
    "# import function to perform feature selection\n",
    "from sklearn.feature_selection import RFE\n",
    "import statsmodels\n",
    "import statsmodels.api as sm\n",
    "# set the plot size using 'rcParams'\n",
    "# once the plot size is set using 'rcParams', it sets the size of all the forthcoming plots in the file\n",
    "# pass width and height in inches to 'figure.figsize' \n",
    "plt.rcParams['figure.figsize'] = [15,8]\n",
    "from sklearn.ensemble import AdaBoostClassifier\n",
    "from sklearn.ensemble import GradientBoostingClassifier\n",
    "from sklearn.model_selection import GridSearchCV\n",
    "from sklearn.ensemble import StackingClassifier\n",
    "from sklearn.ensemble import RandomForestClassifier\n",
    "from sklearn.neighbors import KNeighborsClassifier\n",
    "from sklearn.naive_bayes import GaussianNB\n",
    "\n",
    "# import the XGBoost function for classification\n",
    "from xgboost import XGBClassifier\n",
    "from imblearn.over_sampling import SMOTE\n",
    "from imblearn.over_sampling import SMOTE\n",
    "from imblearn.combine import SMOTEENN\n",
    "from imblearn.under_sampling import RandomUnderSampler\n",
    "from imblearn.over_sampling import RandomOverSampler\n",
    "from lightgbm import LGBMClassifier\n",
    "from sklearn.ensemble import BaggingClassifier\n",
    "from sklearn.ensemble import RandomForestClassifier\n",
    "from sklearn.ensemble import ExtraTreesClassifier\n",
    "from sklearn.datasets import make_classification\n",
    "from sklearn.tree import DecisionTreeClassifier"
   ]
  },
  {
   "cell_type": "code",
   "execution_count": 20,
   "id": "dopgvPYImDVY",
   "metadata": {
    "id": "dopgvPYImDVY"
   },
   "outputs": [],
   "source": []
  },
  {
   "cell_type": "code",
   "execution_count": null,
   "id": "MgfW9TmACMKp",
   "metadata": {
    "colab": {
     "base_uri": "https://localhost:8080/"
    },
    "id": "MgfW9TmACMKp",
    "outputId": "7e7c1a83-dacf-43d4-e7ea-454e98420fdc"
   },
   "outputs": [],
   "source": []
  },
  {
   "cell_type": "code",
   "execution_count": 22,
   "id": "2c462f7d",
   "metadata": {
    "id": "2c462f7d"
   },
   "outputs": [],
   "source": [
    "df1=pd.read_csv('/content/drive/MyDrive/final.csv') #load data set"
   ]
  },
  {
   "cell_type": "code",
   "execution_count": 23,
   "id": "ZaHhizfhswUV",
   "metadata": {
    "id": "ZaHhizfhswUV"
   },
   "outputs": [],
   "source": [
    "df1.isna().sum() #check the null values\n",
    "\n",
    "df1=df1.drop('Unnamed: 0',1) #removed cloumn with name unnamed\n",
    "\n",
    "df2=df1.copy() #df2 another data frame copied from df1"
   ]
  },
  {
   "cell_type": "code",
   "execution_count": 24,
   "id": "eooeHBxGd0Vq",
   "metadata": {
    "id": "eooeHBxGd0Vq"
   },
   "outputs": [],
   "source": [
    "#feature engineering made new cloumn by the 4 categories  refrence taken from the health organization cdc"
   ]
  },
  {
   "cell_type": "code",
   "execution_count": 25,
   "id": "-AXrfLZmswcx",
   "metadata": {
    "id": "-AXrfLZmswcx"
   },
   "outputs": [],
   "source": [
    "df2.insert(5, \"weightstatus\",True)"
   ]
  },
  {
   "cell_type": "code",
   "execution_count": 26,
   "id": "AsLUIDn5uQYA",
   "metadata": {
    "id": "AsLUIDn5uQYA"
   },
   "outputs": [],
   "source": [
    "#define function to fill weight cloumn status\n",
    "def cte(x):\n",
    "    if (x>=30) :\n",
    "    return('Obesity')\n",
    "  elif (x >=25) and (x <=29.9):\n",
    "    return('Overweight')\n",
    "  elif (x>=18.5) and (x <= 24.9):\n",
    "    return(\"Healthy\")\n",
    "  else:\n",
    "    return('Underweight')"
   ]
  },
  {
   "cell_type": "code",
   "execution_count": 27,
   "id": "ku6odopyQ79L",
   "metadata": {
    "id": "ku6odopyQ79L"
   },
   "outputs": [],
   "source": [
    "df2['weightstatus']=df2['BMI'].apply(cte)"
   ]
  },
  {
   "cell_type": "code",
   "execution_count": 218,
   "id": "druzoAIVX9S3",
   "metadata": {
    "id": "druzoAIVX9S3"
   },
   "outputs": [],
   "source": [
    "# df2['weightstatus'].value_counts()"
   ]
  },
  {
   "cell_type": "code",
   "execution_count": 219,
   "id": "5aeTtE4bYUi3",
   "metadata": {
    "colab": {
     "base_uri": "https://localhost:8080/",
     "height": 487
    },
    "id": "5aeTtE4bYUi3",
    "outputId": "dde40d64-a0b9-4e2c-d72a-474bf1d99efc"
   },
   "outputs": [
    {
     "data": {
      "text/html": [
       "\n",
       "  <div id=\"df-7eebe8b9-51c5-4b36-9006-e76789a963cb\">\n",
       "    <div class=\"colab-df-container\">\n",
       "      <div>\n",
       "<style scoped>\n",
       "    .dataframe tbody tr th:only-of-type {\n",
       "        vertical-align: middle;\n",
       "    }\n",
       "\n",
       "    .dataframe tbody tr th {\n",
       "        vertical-align: top;\n",
       "    }\n",
       "\n",
       "    .dataframe thead th {\n",
       "        text-align: right;\n",
       "    }\n",
       "</style>\n",
       "<table border=\"1\" class=\"dataframe\">\n",
       "  <thead>\n",
       "    <tr style=\"text-align: right;\">\n",
       "      <th></th>\n",
       "      <th>PhysicalActivity</th>\n",
       "      <th>HeartDisease</th>\n",
       "      <th>Race</th>\n",
       "      <th>AgeCategory</th>\n",
       "      <th>BMI</th>\n",
       "      <th>AlcoholDrinking</th>\n",
       "      <th>PhysicalHealth</th>\n",
       "      <th>MentalHealth</th>\n",
       "      <th>SleepTime</th>\n",
       "      <th>Stroke</th>\n",
       "      <th>Asthma</th>\n",
       "      <th>SkinCancer</th>\n",
       "      <th>KidneyDisease</th>\n",
       "      <th>Diabetic</th>\n",
       "      <th>DiffWalking</th>\n",
       "      <th>Smoking</th>\n",
       "      <th>Sex</th>\n",
       "      <th>GenHealth</th>\n",
       "    </tr>\n",
       "  </thead>\n",
       "  <tbody>\n",
       "    <tr>\n",
       "      <th>0</th>\n",
       "      <td>Yes</td>\n",
       "      <td>No</td>\n",
       "      <td>White</td>\n",
       "      <td>55 to 59</td>\n",
       "      <td>16.600000</td>\n",
       "      <td>No</td>\n",
       "      <td>3.000000</td>\n",
       "      <td>30.000000</td>\n",
       "      <td>5.000000</td>\n",
       "      <td>No</td>\n",
       "      <td>No</td>\n",
       "      <td>Yes</td>\n",
       "      <td>Yes</td>\n",
       "      <td>Yes</td>\n",
       "      <td>No</td>\n",
       "      <td>Yes</td>\n",
       "      <td>Female</td>\n",
       "      <td>Very Good</td>\n",
       "    </tr>\n",
       "    <tr>\n",
       "      <th>1</th>\n",
       "      <td>Yes</td>\n",
       "      <td>No</td>\n",
       "      <td>Black</td>\n",
       "      <td>65 to 69</td>\n",
       "      <td>29.180000</td>\n",
       "      <td>No</td>\n",
       "      <td>0.000000</td>\n",
       "      <td>0.000000</td>\n",
       "      <td>7.000000</td>\n",
       "      <td>No</td>\n",
       "      <td>No</td>\n",
       "      <td>No</td>\n",
       "      <td>Yes</td>\n",
       "      <td>No</td>\n",
       "      <td>No</td>\n",
       "      <td>No</td>\n",
       "      <td>Female</td>\n",
       "      <td>Good</td>\n",
       "    </tr>\n",
       "    <tr>\n",
       "      <th>2</th>\n",
       "      <td>Yes</td>\n",
       "      <td>No</td>\n",
       "      <td>White</td>\n",
       "      <td>80 plus</td>\n",
       "      <td>20.340000</td>\n",
       "      <td>No</td>\n",
       "      <td>0.000000</td>\n",
       "      <td>0.000000</td>\n",
       "      <td>7.000000</td>\n",
       "      <td>Yes</td>\n",
       "      <td>Yes</td>\n",
       "      <td>No</td>\n",
       "      <td>Yes</td>\n",
       "      <td>No</td>\n",
       "      <td>No</td>\n",
       "      <td>No</td>\n",
       "      <td>Female</td>\n",
       "      <td>Very Good</td>\n",
       "    </tr>\n",
       "    <tr>\n",
       "      <th>3</th>\n",
       "      <td>Yes</td>\n",
       "      <td>No</td>\n",
       "      <td>White</td>\n",
       "      <td>65 to 69</td>\n",
       "      <td>26.580000</td>\n",
       "      <td>No</td>\n",
       "      <td>20.000000</td>\n",
       "      <td>30.000000</td>\n",
       "      <td>8.000000</td>\n",
       "      <td>No</td>\n",
       "      <td>No</td>\n",
       "      <td>No</td>\n",
       "      <td>Yes</td>\n",
       "      <td>Yes</td>\n",
       "      <td>No</td>\n",
       "      <td>Yes</td>\n",
       "      <td>Male</td>\n",
       "      <td>Fair</td>\n",
       "    </tr>\n",
       "    <tr>\n",
       "      <th>4</th>\n",
       "      <td>No</td>\n",
       "      <td>No</td>\n",
       "      <td>White</td>\n",
       "      <td>75 to 79</td>\n",
       "      <td>24.210000</td>\n",
       "      <td>No</td>\n",
       "      <td>0.000000</td>\n",
       "      <td>0.000000</td>\n",
       "      <td>6.000000</td>\n",
       "      <td>No</td>\n",
       "      <td>Yes</td>\n",
       "      <td>Yes</td>\n",
       "      <td>Yes</td>\n",
       "      <td>No</td>\n",
       "      <td>No</td>\n",
       "      <td>No</td>\n",
       "      <td>Female</td>\n",
       "      <td>Good</td>\n",
       "    </tr>\n",
       "    <tr>\n",
       "      <th>...</th>\n",
       "      <td>...</td>\n",
       "      <td>...</td>\n",
       "      <td>...</td>\n",
       "      <td>...</td>\n",
       "      <td>...</td>\n",
       "      <td>...</td>\n",
       "      <td>...</td>\n",
       "      <td>...</td>\n",
       "      <td>...</td>\n",
       "      <td>...</td>\n",
       "      <td>...</td>\n",
       "      <td>...</td>\n",
       "      <td>...</td>\n",
       "      <td>...</td>\n",
       "      <td>...</td>\n",
       "      <td>...</td>\n",
       "      <td>...</td>\n",
       "      <td>...</td>\n",
       "    </tr>\n",
       "    <tr>\n",
       "      <th>354238</th>\n",
       "      <td>Yes</td>\n",
       "      <td>No</td>\n",
       "      <td>Hispanic</td>\n",
       "      <td>45 to 49</td>\n",
       "      <td>24.240000</td>\n",
       "      <td>No</td>\n",
       "      <td>0.000000</td>\n",
       "      <td>0.000000</td>\n",
       "      <td>6.000000</td>\n",
       "      <td>No</td>\n",
       "      <td>Yes</td>\n",
       "      <td>No</td>\n",
       "      <td>Yes</td>\n",
       "      <td>No</td>\n",
       "      <td>No</td>\n",
       "      <td>No</td>\n",
       "      <td>Female</td>\n",
       "      <td>Good</td>\n",
       "    </tr>\n",
       "    <tr>\n",
       "      <th>354239</th>\n",
       "      <td>No</td>\n",
       "      <td>No</td>\n",
       "      <td>Hispanic</td>\n",
       "      <td>25 to 29</td>\n",
       "      <td>32.810000</td>\n",
       "      <td>No</td>\n",
       "      <td>0.000000</td>\n",
       "      <td>0.000000</td>\n",
       "      <td>12.000000</td>\n",
       "      <td>No</td>\n",
       "      <td>Yes</td>\n",
       "      <td>No</td>\n",
       "      <td>Yes</td>\n",
       "      <td>No</td>\n",
       "      <td>No</td>\n",
       "      <td>No</td>\n",
       "      <td>Female</td>\n",
       "      <td>Good</td>\n",
       "    </tr>\n",
       "    <tr>\n",
       "      <th>354240</th>\n",
       "      <td>Yes</td>\n",
       "      <td>No</td>\n",
       "      <td>Hispanic</td>\n",
       "      <td>80 plus</td>\n",
       "      <td>46.560000</td>\n",
       "      <td>No</td>\n",
       "      <td>0.000000</td>\n",
       "      <td>0.000000</td>\n",
       "      <td>8.000000</td>\n",
       "      <td>No</td>\n",
       "      <td>Yes</td>\n",
       "      <td>No</td>\n",
       "      <td>Yes</td>\n",
       "      <td>No</td>\n",
       "      <td>No</td>\n",
       "      <td>No</td>\n",
       "      <td>Female</td>\n",
       "      <td>Good</td>\n",
       "    </tr>\n",
       "    <tr>\n",
       "      <th>354241</th>\n",
       "      <td>Yes</td>\n",
       "      <td>No</td>\n",
       "      <td>Hispanic</td>\n",
       "      <td>55 to 59</td>\n",
       "      <td>26.610000</td>\n",
       "      <td>No</td>\n",
       "      <td>0.000000</td>\n",
       "      <td>0.000000</td>\n",
       "      <td>6.000000</td>\n",
       "      <td>No</td>\n",
       "      <td>Yes</td>\n",
       "      <td>No</td>\n",
       "      <td>Yes</td>\n",
       "      <td>No</td>\n",
       "      <td>No</td>\n",
       "      <td>No</td>\n",
       "      <td>Male</td>\n",
       "      <td>Good</td>\n",
       "    </tr>\n",
       "    <tr>\n",
       "      <th>354242</th>\n",
       "      <td>No</td>\n",
       "      <td>No</td>\n",
       "      <td>Hispanic</td>\n",
       "      <td>60 to 64</td>\n",
       "      <td>30.850000</td>\n",
       "      <td>No</td>\n",
       "      <td>2.000000</td>\n",
       "      <td>7.000000</td>\n",
       "      <td>6.000000</td>\n",
       "      <td>Yes</td>\n",
       "      <td>No</td>\n",
       "      <td>No</td>\n",
       "      <td>No</td>\n",
       "      <td>No</td>\n",
       "      <td>No</td>\n",
       "      <td>No</td>\n",
       "      <td>Female</td>\n",
       "      <td>Good</td>\n",
       "    </tr>\n",
       "  </tbody>\n",
       "</table>\n",
       "<p>354243 rows × 18 columns</p>\n",
       "</div>\n",
       "      <button class=\"colab-df-convert\" onclick=\"convertToInteractive('df-7eebe8b9-51c5-4b36-9006-e76789a963cb')\"\n",
       "              title=\"Convert this dataframe to an interactive table.\"\n",
       "              style=\"display:none;\">\n",
       "        \n",
       "  <svg xmlns=\"http://www.w3.org/2000/svg\" height=\"24px\"viewBox=\"0 0 24 24\"\n",
       "       width=\"24px\">\n",
       "    <path d=\"M0 0h24v24H0V0z\" fill=\"none\"/>\n",
       "    <path d=\"M18.56 5.44l.94 2.06.94-2.06 2.06-.94-2.06-.94-.94-2.06-.94 2.06-2.06.94zm-11 1L8.5 8.5l.94-2.06 2.06-.94-2.06-.94L8.5 2.5l-.94 2.06-2.06.94zm10 10l.94 2.06.94-2.06 2.06-.94-2.06-.94-.94-2.06-.94 2.06-2.06.94z\"/><path d=\"M17.41 7.96l-1.37-1.37c-.4-.4-.92-.59-1.43-.59-.52 0-1.04.2-1.43.59L10.3 9.45l-7.72 7.72c-.78.78-.78 2.05 0 2.83L4 21.41c.39.39.9.59 1.41.59.51 0 1.02-.2 1.41-.59l7.78-7.78 2.81-2.81c.8-.78.8-2.07 0-2.86zM5.41 20L4 18.59l7.72-7.72 1.47 1.35L5.41 20z\"/>\n",
       "  </svg>\n",
       "      </button>\n",
       "      \n",
       "  <style>\n",
       "    .colab-df-container {\n",
       "      display:flex;\n",
       "      flex-wrap:wrap;\n",
       "      gap: 12px;\n",
       "    }\n",
       "\n",
       "    .colab-df-convert {\n",
       "      background-color: #E8F0FE;\n",
       "      border: none;\n",
       "      border-radius: 50%;\n",
       "      cursor: pointer;\n",
       "      display: none;\n",
       "      fill: #1967D2;\n",
       "      height: 32px;\n",
       "      padding: 0 0 0 0;\n",
       "      width: 32px;\n",
       "    }\n",
       "\n",
       "    .colab-df-convert:hover {\n",
       "      background-color: #E2EBFA;\n",
       "      box-shadow: 0px 1px 2px rgba(60, 64, 67, 0.3), 0px 1px 3px 1px rgba(60, 64, 67, 0.15);\n",
       "      fill: #174EA6;\n",
       "    }\n",
       "\n",
       "    [theme=dark] .colab-df-convert {\n",
       "      background-color: #3B4455;\n",
       "      fill: #D2E3FC;\n",
       "    }\n",
       "\n",
       "    [theme=dark] .colab-df-convert:hover {\n",
       "      background-color: #434B5C;\n",
       "      box-shadow: 0px 1px 3px 1px rgba(0, 0, 0, 0.15);\n",
       "      filter: drop-shadow(0px 1px 2px rgba(0, 0, 0, 0.3));\n",
       "      fill: #FFFFFF;\n",
       "    }\n",
       "  </style>\n",
       "\n",
       "      <script>\n",
       "        const buttonEl =\n",
       "          document.querySelector('#df-7eebe8b9-51c5-4b36-9006-e76789a963cb button.colab-df-convert');\n",
       "        buttonEl.style.display =\n",
       "          google.colab.kernel.accessAllowed ? 'block' : 'none';\n",
       "\n",
       "        async function convertToInteractive(key) {\n",
       "          const element = document.querySelector('#df-7eebe8b9-51c5-4b36-9006-e76789a963cb');\n",
       "          const dataTable =\n",
       "            await google.colab.kernel.invokeFunction('convertToInteractive',\n",
       "                                                     [key], {});\n",
       "          if (!dataTable) return;\n",
       "\n",
       "          const docLinkHtml = 'Like what you see? Visit the ' +\n",
       "            '<a target=\"_blank\" href=https://colab.research.google.com/notebooks/data_table.ipynb>data table notebook</a>'\n",
       "            + ' to learn more about interactive tables.';\n",
       "          element.innerHTML = '';\n",
       "          dataTable['output_type'] = 'display_data';\n",
       "          await google.colab.output.renderOutput(dataTable, element);\n",
       "          const docLink = document.createElement('div');\n",
       "          docLink.innerHTML = docLinkHtml;\n",
       "          element.appendChild(docLink);\n",
       "        }\n",
       "      </script>\n",
       "    </div>\n",
       "  </div>\n",
       "  "
      ],
      "text/plain": [
       "       PhysicalActivity HeartDisease      Race AgeCategory       BMI  \\\n",
       "0                   Yes           No     White    55 to 59 16.600000   \n",
       "1                   Yes           No     Black    65 to 69 29.180000   \n",
       "2                   Yes           No     White     80 plus 20.340000   \n",
       "3                   Yes           No     White    65 to 69 26.580000   \n",
       "4                    No           No     White    75 to 79 24.210000   \n",
       "...                 ...          ...       ...         ...       ...   \n",
       "354238              Yes           No  Hispanic    45 to 49 24.240000   \n",
       "354239               No           No  Hispanic    25 to 29 32.810000   \n",
       "354240              Yes           No  Hispanic     80 plus 46.560000   \n",
       "354241              Yes           No  Hispanic    55 to 59 26.610000   \n",
       "354242               No           No  Hispanic    60 to 64 30.850000   \n",
       "\n",
       "       AlcoholDrinking  PhysicalHealth  MentalHealth  SleepTime Stroke Asthma  \\\n",
       "0                   No        3.000000     30.000000   5.000000     No     No   \n",
       "1                   No        0.000000      0.000000   7.000000     No     No   \n",
       "2                   No        0.000000      0.000000   7.000000    Yes    Yes   \n",
       "3                   No       20.000000     30.000000   8.000000     No     No   \n",
       "4                   No        0.000000      0.000000   6.000000     No    Yes   \n",
       "...                ...             ...           ...        ...    ...    ...   \n",
       "354238              No        0.000000      0.000000   6.000000     No    Yes   \n",
       "354239              No        0.000000      0.000000  12.000000     No    Yes   \n",
       "354240              No        0.000000      0.000000   8.000000     No    Yes   \n",
       "354241              No        0.000000      0.000000   6.000000     No    Yes   \n",
       "354242              No        2.000000      7.000000   6.000000    Yes     No   \n",
       "\n",
       "       SkinCancer KidneyDisease Diabetic DiffWalking Smoking     Sex  \\\n",
       "0             Yes           Yes      Yes          No     Yes  Female   \n",
       "1              No           Yes       No          No      No  Female   \n",
       "2              No           Yes       No          No      No  Female   \n",
       "3              No           Yes      Yes          No     Yes    Male   \n",
       "4             Yes           Yes       No          No      No  Female   \n",
       "...           ...           ...      ...         ...     ...     ...   \n",
       "354238         No           Yes       No          No      No  Female   \n",
       "354239         No           Yes       No          No      No  Female   \n",
       "354240         No           Yes       No          No      No  Female   \n",
       "354241         No           Yes       No          No      No    Male   \n",
       "354242         No            No       No          No      No  Female   \n",
       "\n",
       "        GenHealth  \n",
       "0       Very Good  \n",
       "1            Good  \n",
       "2       Very Good  \n",
       "3            Fair  \n",
       "4            Good  \n",
       "...           ...  \n",
       "354238       Good  \n",
       "354239       Good  \n",
       "354240       Good  \n",
       "354241       Good  \n",
       "354242       Good  \n",
       "\n",
       "[354243 rows x 18 columns]"
      ]
     },
     "execution_count": 219,
     "metadata": {},
     "output_type": "execute_result"
    }
   ],
   "source": [
    "df2"
   ]
  },
  {
   "cell_type": "code",
   "execution_count": 28,
   "id": "4bebf646",
   "metadata": {
    "colab": {
     "base_uri": "https://localhost:8080/",
     "height": 727
    },
    "id": "4bebf646",
    "outputId": "1520e7fb-b876-4413-dcfd-0a69d8d331e6"
   },
   "outputs": [
    {
     "name": "stdout",
     "output_type": "stream",
     "text": [
      "<class 'pandas.core.frame.DataFrame'>\n",
      "RangeIndex: 354243 entries, 0 to 354242\n",
      "Data columns (total 19 columns):\n",
      " #   Column            Non-Null Count   Dtype  \n",
      "---  ------            --------------   -----  \n",
      " 0   PhysicalActivity  354243 non-null  object \n",
      " 1   HeartDisease      354243 non-null  int64  \n",
      " 2   Race              354243 non-null  object \n",
      " 3   AgeCategory       354243 non-null  object \n",
      " 4   BMI               354243 non-null  float64\n",
      " 5   weightstatus      354243 non-null  object \n",
      " 6   AlcoholDrinking   354243 non-null  object \n",
      " 7   PhysicalHealth    354243 non-null  float64\n",
      " 8   MentalHealth      354243 non-null  float64\n",
      " 9   SleepTime         354243 non-null  float64\n",
      " 10  Stroke            354243 non-null  object \n",
      " 11  Asthma            354243 non-null  object \n",
      " 12  SkinCancer        354243 non-null  object \n",
      " 13  KidneyDisease     354243 non-null  object \n",
      " 14  Diabetic          354243 non-null  object \n",
      " 15  DiffWalking       354243 non-null  object \n",
      " 16  Smoking           354243 non-null  object \n",
      " 17  Sex               354243 non-null  object \n",
      " 18  GenHealth         354243 non-null  object \n",
      "dtypes: float64(4), int64(1), object(14)\n",
      "memory usage: 51.4+ MB\n",
      "X_train (251512, 41)\n",
      "y_train (251512,)\n",
      "X_test (102731, 41)\n",
      "y_test (102731,)\n"
     ]
    },
    {
     "data": {
      "text/html": [
       "\n",
       "  <div id=\"df-40b0eefa-81af-4a99-b251-5f7c589c0e7e\">\n",
       "    <div class=\"colab-df-container\">\n",
       "      <div>\n",
       "<style scoped>\n",
       "    .dataframe tbody tr th:only-of-type {\n",
       "        vertical-align: middle;\n",
       "    }\n",
       "\n",
       "    .dataframe tbody tr th {\n",
       "        vertical-align: top;\n",
       "    }\n",
       "\n",
       "    .dataframe thead th {\n",
       "        text-align: right;\n",
       "    }\n",
       "</style>\n",
       "<table border=\"1\" class=\"dataframe\">\n",
       "  <thead>\n",
       "    <tr style=\"text-align: right;\">\n",
       "      <th></th>\n",
       "      <th>BMI</th>\n",
       "      <th>PhysicalHealth</th>\n",
       "      <th>MentalHealth</th>\n",
       "      <th>SleepTime</th>\n",
       "    </tr>\n",
       "  </thead>\n",
       "  <tbody>\n",
       "    <tr>\n",
       "      <th>0</th>\n",
       "      <td>16.600000</td>\n",
       "      <td>3.000000</td>\n",
       "      <td>30.000000</td>\n",
       "      <td>5.000000</td>\n",
       "    </tr>\n",
       "    <tr>\n",
       "      <th>1</th>\n",
       "      <td>29.180000</td>\n",
       "      <td>0.000000</td>\n",
       "      <td>0.000000</td>\n",
       "      <td>7.000000</td>\n",
       "    </tr>\n",
       "    <tr>\n",
       "      <th>2</th>\n",
       "      <td>20.340000</td>\n",
       "      <td>0.000000</td>\n",
       "      <td>0.000000</td>\n",
       "      <td>7.000000</td>\n",
       "    </tr>\n",
       "    <tr>\n",
       "      <th>3</th>\n",
       "      <td>26.580000</td>\n",
       "      <td>20.000000</td>\n",
       "      <td>30.000000</td>\n",
       "      <td>8.000000</td>\n",
       "    </tr>\n",
       "    <tr>\n",
       "      <th>4</th>\n",
       "      <td>24.210000</td>\n",
       "      <td>0.000000</td>\n",
       "      <td>0.000000</td>\n",
       "      <td>6.000000</td>\n",
       "    </tr>\n",
       "  </tbody>\n",
       "</table>\n",
       "</div>\n",
       "      <button class=\"colab-df-convert\" onclick=\"convertToInteractive('df-40b0eefa-81af-4a99-b251-5f7c589c0e7e')\"\n",
       "              title=\"Convert this dataframe to an interactive table.\"\n",
       "              style=\"display:none;\">\n",
       "        \n",
       "  <svg xmlns=\"http://www.w3.org/2000/svg\" height=\"24px\"viewBox=\"0 0 24 24\"\n",
       "       width=\"24px\">\n",
       "    <path d=\"M0 0h24v24H0V0z\" fill=\"none\"/>\n",
       "    <path d=\"M18.56 5.44l.94 2.06.94-2.06 2.06-.94-2.06-.94-.94-2.06-.94 2.06-2.06.94zm-11 1L8.5 8.5l.94-2.06 2.06-.94-2.06-.94L8.5 2.5l-.94 2.06-2.06.94zm10 10l.94 2.06.94-2.06 2.06-.94-2.06-.94-.94-2.06-.94 2.06-2.06.94z\"/><path d=\"M17.41 7.96l-1.37-1.37c-.4-.4-.92-.59-1.43-.59-.52 0-1.04.2-1.43.59L10.3 9.45l-7.72 7.72c-.78.78-.78 2.05 0 2.83L4 21.41c.39.39.9.59 1.41.59.51 0 1.02-.2 1.41-.59l7.78-7.78 2.81-2.81c.8-.78.8-2.07 0-2.86zM5.41 20L4 18.59l7.72-7.72 1.47 1.35L5.41 20z\"/>\n",
       "  </svg>\n",
       "      </button>\n",
       "      \n",
       "  <style>\n",
       "    .colab-df-container {\n",
       "      display:flex;\n",
       "      flex-wrap:wrap;\n",
       "      gap: 12px;\n",
       "    }\n",
       "\n",
       "    .colab-df-convert {\n",
       "      background-color: #E8F0FE;\n",
       "      border: none;\n",
       "      border-radius: 50%;\n",
       "      cursor: pointer;\n",
       "      display: none;\n",
       "      fill: #1967D2;\n",
       "      height: 32px;\n",
       "      padding: 0 0 0 0;\n",
       "      width: 32px;\n",
       "    }\n",
       "\n",
       "    .colab-df-convert:hover {\n",
       "      background-color: #E2EBFA;\n",
       "      box-shadow: 0px 1px 2px rgba(60, 64, 67, 0.3), 0px 1px 3px 1px rgba(60, 64, 67, 0.15);\n",
       "      fill: #174EA6;\n",
       "    }\n",
       "\n",
       "    [theme=dark] .colab-df-convert {\n",
       "      background-color: #3B4455;\n",
       "      fill: #D2E3FC;\n",
       "    }\n",
       "\n",
       "    [theme=dark] .colab-df-convert:hover {\n",
       "      background-color: #434B5C;\n",
       "      box-shadow: 0px 1px 3px 1px rgba(0, 0, 0, 0.15);\n",
       "      filter: drop-shadow(0px 1px 2px rgba(0, 0, 0, 0.3));\n",
       "      fill: #FFFFFF;\n",
       "    }\n",
       "  </style>\n",
       "\n",
       "      <script>\n",
       "        const buttonEl =\n",
       "          document.querySelector('#df-40b0eefa-81af-4a99-b251-5f7c589c0e7e button.colab-df-convert');\n",
       "        buttonEl.style.display =\n",
       "          google.colab.kernel.accessAllowed ? 'block' : 'none';\n",
       "\n",
       "        async function convertToInteractive(key) {\n",
       "          const element = document.querySelector('#df-40b0eefa-81af-4a99-b251-5f7c589c0e7e');\n",
       "          const dataTable =\n",
       "            await google.colab.kernel.invokeFunction('convertToInteractive',\n",
       "                                                     [key], {});\n",
       "          if (!dataTable) return;\n",
       "\n",
       "          const docLinkHtml = 'Like what you see? Visit the ' +\n",
       "            '<a target=\"_blank\" href=https://colab.research.google.com/notebooks/data_table.ipynb>data table notebook</a>'\n",
       "            + ' to learn more about interactive tables.';\n",
       "          element.innerHTML = '';\n",
       "          dataTable['output_type'] = 'display_data';\n",
       "          await google.colab.output.renderOutput(dataTable, element);\n",
       "          const docLink = document.createElement('div');\n",
       "          docLink.innerHTML = docLinkHtml;\n",
       "          element.appendChild(docLink);\n",
       "        }\n",
       "      </script>\n",
       "    </div>\n",
       "  </div>\n",
       "  "
      ],
      "text/plain": [
       "        BMI  PhysicalHealth  MentalHealth  SleepTime\n",
       "0 16.600000        3.000000     30.000000   5.000000\n",
       "1 29.180000        0.000000      0.000000   7.000000\n",
       "2 20.340000        0.000000      0.000000   7.000000\n",
       "3 26.580000       20.000000     30.000000   8.000000\n",
       "4 24.210000        0.000000      0.000000   6.000000"
      ]
     },
     "execution_count": 28,
     "metadata": {},
     "output_type": "execute_result"
    }
   ],
   "source": [
    "\n",
    "df2['HeartDisease'] = df2[['HeartDisease']].replace('Yes',1) #replace yes with 1\n",
    "\n",
    "\n",
    "df2['HeartDisease'] = df2[['HeartDisease']].replace('No',0) #replaced no with 0\n",
    "\n",
    "\n",
    "\n",
    "df2.info()\n",
    "\n",
    "#check the target cloumn data point it is balanced or not\n",
    "df2.HeartDisease.value_counts() #imblanced data set we apply smote method\n",
    "\n",
    "df_feature=df2\n",
    "df_target=df_feature['HeartDisease']\n",
    "df_feature=df_feature.drop('HeartDisease',1)\n",
    "\n",
    "\n",
    "\n",
    "\n",
    "df_num = df_feature.select_dtypes(include = [np.number]) #selected only numeric data cloumns\n",
    "df_num.columns\n",
    "\n",
    "df_cat = df_feature.select_dtypes(include = [np.object]) #selected only categorical data clomns\n",
    "df_cat.columns\n",
    "\n",
    "# use 'get_dummies' from pandas to create dummy variables\n",
    "# use 'drop_first' to create (n-1) dummy variables\n",
    "dummy_var = pd.get_dummies(data = df_cat, drop_first = True)\n",
    "\n",
    "\n",
    "\n",
    "X = pd.concat([df_num, dummy_var], axis = 1)\n",
    "# display first five observations\n",
    "X.head()\n",
    "\n",
    "# add a constant column to the dataframe\n",
    "# while using the 'Logit' method in the Statsmodels library, the method do not consider the intercept by default\n",
    "# we can add the intercept to the set of independent variables using 'add_constant()'\n",
    "#X = sm.add_constant(X)\n",
    "\n",
    "# split data into train subset and test subset\n",
    "# set 'random_state' to generate the same dataset each time you run the code \n",
    "# 'test_size' returns the proportion of data to be included in the testing set\n",
    "X_train, X_test, y_train, y_test = train_test_split(X, df_target, random_state = 20, test_size = 0.29,stratify=df_target)\n",
    "\n",
    "# check the dimensions of the train & test subset using 'shape'\n",
    "# print dimension of train set\n",
    "print('X_train', X_train.shape)\n",
    "print('y_train', y_train.shape)\n",
    "\n",
    "# print dimension of test set\n",
    "print('X_test', X_test.shape)\n",
    "print('y_test', y_test.shape)\n",
    "\n",
    "df_num.head()"
   ]
  },
  {
   "cell_type": "code",
   "execution_count": 1,
   "id": "YWvjuwa-akd_",
   "metadata": {
    "id": "YWvjuwa-akd_"
   },
   "outputs": [],
   "source": [
    "# create a generalized function to calculate the metrics values for test set\n",
    "def get_test_report(model):\n",
    "  test_pred = model.predict(X_test)\n",
    "  return(classification_report(y_test, test_pred))\n",
    "# create a generalized function to calculate the metrics values for train set\n",
    "def get_train_report(model):\n",
    "  train_pred = model.predict(X_train)\n",
    "  return(classification_report(y_train, train_pred))\n",
    "def plot_confusion_matrix(model):\n",
    "    y_pred = model.predict(X_test)\n",
    "    cm = confusion_matrix(y_test, y_pred)\n",
    "    conf_matrix = pd.DataFrame(data = cm,columns = ['Predicted:0','Predicted:1'], index = ['Actual:0','Actual:1'])\n",
    "    sns.heatmap(conf_matrix, annot = True, fmt = 'd', cmap = ListedColormap(['lightskyblue']), cbar = False, \n",
    "                linewidths = 0.1, annot_kws = {'size':25})\n",
    "    plt.xticks(fontsize = 20)\n",
    "    plt.yticks(fontsize = 20)\n",
    "    plt.show()\n",
    "def plot_roc(model):\n",
    "    y_pred_prob = model.predict_proba(X_test)[:,1]\n",
    "    \n",
    "    # the roc_curve() returns the values for false positive rate, true positive rate and threshold\n",
    "    # pass the actual target values and predicted probabilities to the function\n",
    "    fpr, tpr, thresholds = roc_curve(y_test, y_pred_prob)\n",
    "    print(roc_auc_score(y_test, y_pred_prob))\n",
    "\n",
    "    # plot the ROC curve\n",
    "    plt.plot(fpr, tpr)\n",
    "\n",
    "    # set limits for x and y axes\n",
    "    plt.xlim([0.0, 1.0])\n",
    "    plt.ylim([0.0, 1.0])\n",
    "\n",
    "    # plot the straight line showing worst prediction for the model\n",
    "    plt.plot([0, 1], [0, 1],'r--')\n",
    "\n",
    "    # add plot and axes labels\n",
    "    # set text size using 'fontsize'\n",
    "    plt.title('ROC curve for CHD Prediction Classifier', fontsize = 15)\n",
    "    plt.xlabel('False positive rate (1-Specificity)', fontsize = 15)\n",
    "    plt.ylabel('True positive rate (Sensitivity)', fontsize = 15)\n",
    "\n",
    "    # add the AUC score to the plot\n",
    "    # 'x' and 'y' gives position of the text\n",
    "    # 's' is the text \n",
    "    # use round() to round-off the AUC score upto 4 digits\n",
    "    plt.text(x = 0.82, y = 0.3, s = ('AUC Score:',round(roc_auc_score(y_test, y_pred_prob),4)))\n",
    "\n",
    "    # plot the grid\n",
    "    plt.grid(True)\n",
    "\n",
    "\n",
    "    \n",
    "    \n",
    "    \n"
   ]
  },
  {
   "cell_type": "code",
   "execution_count": 222,
   "id": "hcEsEUtvNoVn",
   "metadata": {
    "id": "hcEsEUtvNoVn"
   },
   "outputs": [],
   "source": [
    "#SMOTE application  code run only when need\n",
    "# print(\"Before OverSampling, counts of label '1': {}\".format(sum(y_train == 1)))\n",
    "# print(\"Before OverSampling, counts of label '0': {} \\n\".format(sum(y_train == 0)))\n",
    "  \n",
    "# # import SMOTE module from imblearn library\n",
    "# # pip install imblearn (if you don't have imblearn in your system)\n",
    "# from imblearn.over_sampling import SMOTE\n",
    "# sm1 = SMOTE(random_state = 2,sampling_strategy=0.3)\n",
    "# X_train, y_train = sm1.fit_resample(X_train, y_train.ravel())\n",
    "  \n",
    "# print('After OverSampling, the shape of train_X: {}'.format(X_train.shape))\n",
    "# print('After OverSampling, the shape of train_y: {} \\n'.format(y_train.shape))\n",
    "  \n",
    "# print(\"After OverSampling, counts of label '1': {}\".format(sum(y_train == 1)))\n",
    "# print(\"After OverSampling, counts of label '0': {}\".format(sum(y_train == 0)))\n"
   ]
  },
  {
   "cell_type": "code",
   "execution_count": 223,
   "id": "c1043a73",
   "metadata": {
    "colab": {
     "base_uri": "https://localhost:8080/"
    },
    "id": "c1043a73",
    "outputId": "4ee92586-2a26-48b5-c79e-ebd17c8c790f"
   },
   "outputs": [
    {
     "data": {
      "text/plain": [
       "LogisticRegression(class_weight='balanced')"
      ]
     },
     "execution_count": 223,
     "metadata": {},
     "output_type": "execute_result"
    }
   ],
   "source": [
    "#logestic regression by sciket learn for model comprasion\n",
    "from sklearn.linear_model import LogisticRegression\n",
    "lgr = LogisticRegression( class_weight='balanced')\n",
    "lgr.fit(X_train, y_train)\n",
    "\n"
   ]
  },
  {
   "cell_type": "code",
   "execution_count": 224,
   "id": "adf40d36",
   "metadata": {
    "colab": {
     "base_uri": "https://localhost:8080/",
     "height": 492
    },
    "id": "adf40d36",
    "outputId": "a60c7917-af82-4374-b04e-d8ab1658ff5d"
   },
   "outputs": [
    {
     "data": {
      "image/png": "[encoded data removed]",
      "text/plain": [
       "<Figure size 1080x576 with 1 Axes>"
      ]
     },
     "metadata": {
      "needs_background": "light"
     },
     "output_type": "display_data"
    }
   ],
   "source": [
    "from logging import LoggerAdapter\n",
    "plot_confusion_matrix(lgr)"
   ]
  },
  {
   "cell_type": "code",
   "execution_count": 225,
   "id": "bfc8729c",
   "metadata": {
    "colab": {
     "base_uri": "https://localhost:8080/"
    },
    "id": "bfc8729c",
    "outputId": "a64b5989-ea4c-4010-b904-52f66a2a3320"
   },
   "outputs": [
    {
     "name": "stdout",
     "output_type": "stream",
     "text": [
      "              precision    recall  f1-score   support\n",
      "\n",
      "           0       0.97      0.75      0.85     93701\n",
      "           1       0.23      0.78      0.36      9030\n",
      "\n",
      "    accuracy                           0.75    102731\n",
      "   macro avg       0.60      0.76      0.60    102731\n",
      "weighted avg       0.91      0.75      0.80    102731\n",
      "\n"
     ]
    }
   ],
   "source": [
    "#test data classification report\n",
    "test_report = get_test_report(lgr)\n",
    "print(test_report)\n"
   ]
  },
  {
   "cell_type": "code",
   "execution_count": 226,
   "id": "5ZhbAukbaiB-",
   "metadata": {
    "colab": {
     "base_uri": "https://localhost:8080/"
    },
    "id": "5ZhbAukbaiB-",
    "outputId": "bc42621f-9a2a-4cac-b6ce-8d444501301c"
   },
   "outputs": [
    {
     "data": {
      "text/plain": [
       "XGBClassifier(gamma=0.5, max_depth=10)"
      ]
     },
     "execution_count": 226,
     "metadata": {},
     "output_type": "execute_result"
    }
   ],
   "source": [
    "# instantiate the 'XGBClassifier'\n",
    "# set the maximum depth of the tree using the parameter, 'max_depth'\n",
    "# pass the value of minimum loss reduction required for partition of the leaf node to the parameter, 'gamma'\n",
    "xgb_model = XGBClassifier(max_depth = 10, gamma =0.5)\n",
    "\n",
    "# fit the model using fit() on train data\n",
    "xgb_model.fit(X_train, y_train)"
   ]
  },
  {
   "cell_type": "code",
   "execution_count": 227,
   "id": "75bbb0d9",
   "metadata": {
    "colab": {
     "base_uri": "https://localhost:8080/",
     "height": 492
    },
    "id": "75bbb0d9",
    "outputId": "1c1fbcaa-be65-478d-8126-5f8c953ada84"
   },
   "outputs": [
    {
     "data": {
      "image/png": "[encoded data removed]",
      "text/plain": [
       "<Figure size 1080x576 with 1 Axes>"
      ]
     },
     "metadata": {
      "needs_background": "light"
     },
     "output_type": "display_data"
    }
   ],
   "source": [
    "# call the function to plot the confusion matrix\n",
    "# pass the XGBoost model to the function\n",
    "plot_confusion_matrix(xgb_model)"
   ]
  },
  {
   "cell_type": "code",
   "execution_count": 228,
   "id": "34c6ded1",
   "metadata": {
    "colab": {
     "base_uri": "https://localhost:8080/"
    },
    "id": "34c6ded1",
    "outputId": "a63afc1a-893c-4bdd-f03d-7d2a7c5bb8fd"
   },
   "outputs": [
    {
     "name": "stdout",
     "output_type": "stream",
     "text": [
      "              precision    recall  f1-score   support\n",
      "\n",
      "           0       0.92      0.99      0.95     93701\n",
      "           1       0.50      0.10      0.16      9030\n",
      "\n",
      "    accuracy                           0.91    102731\n",
      "   macro avg       0.71      0.54      0.56    102731\n",
      "weighted avg       0.88      0.91      0.88    102731\n",
      "\n"
     ]
    }
   ],
   "source": [
    "test_report = get_test_report(xgb_model)\n",
    "\n",
    "# print the performance measures\n",
    "print(test_report)"
   ]
  },
  {
   "cell_type": "code",
   "execution_count": 229,
   "id": "66BPzfFihxVX",
   "metadata": {
    "id": "66BPzfFihxVX"
   },
   "outputs": [],
   "source": [
    "# instantiate the 'RandomForestClassifier'\n",
    "# pass the required number of trees in the random forest to the parameter, 'n_estimators'\n",
    "# pass the 'random_state' to obtain the same samples for each time you run the code\n",
    "rf_classification = RandomForestClassifier(n_estimators = 10, random_state = 10,)\n",
    "\n",
    "# use fit() to fit the model on the train set\n",
    "rf_model = rf_classification.fit(X_train, y_train)"
   ]
  },
  {
   "cell_type": "code",
   "execution_count": 230,
   "id": "ExpI40aqhxXz",
   "metadata": {
    "colab": {
     "base_uri": "https://localhost:8080/"
    },
    "id": "ExpI40aqhxXz",
    "outputId": "7520e5e1-bd61-40a6-837b-c4415d485230"
   },
   "outputs": [
    {
     "name": "stdout",
     "output_type": "stream",
     "text": [
      "              precision    recall  f1-score   support\n",
      "\n",
      "           0       0.92      0.98      0.95     93701\n",
      "           1       0.34      0.12      0.18      9030\n",
      "\n",
      "    accuracy                           0.90    102731\n",
      "   macro avg       0.63      0.55      0.56    102731\n",
      "weighted avg       0.87      0.90      0.88    102731\n",
      "\n"
     ]
    }
   ],
   "source": [
    "# compute the performance measures on test data\n",
    "# call the function 'get_test_report'\n",
    "# pass the random forest model to the function\n",
    "test_report = get_test_report(rf_model)\n",
    "\n",
    "# print the performace measures\n",
    "print(test_report) "
   ]
  },
  {
   "cell_type": "code",
   "execution_count": 3,
   "id": "5ca96be5",
   "metadata": {},
   "outputs": [],
   "source": [
    "from sklearn.ensemble import ExtraTreesClassifier"
   ]
  },
  {
   "cell_type": "code",
   "execution_count": 4,
   "id": "fV3GxJbhhxaW",
   "metadata": {
    "id": "fV3GxJbhhxaW"
   },
   "outputs": [
    {
     "ename": "NameError",
     "evalue": "name 'X_train' is not defined",
     "output_type": "error",
     "traceback": [
      "\u001b[1;31m---------------------------------------------------------------------------\u001b[0m",
      "\u001b[1;31mNameError\u001b[0m                                 Traceback (most recent call last)",
      "\u001b[1;32m~\\AppData\\Local\\Temp/ipykernel_4960/3244627182.py\u001b[0m in \u001b[0;36m<module>\u001b[1;34m\u001b[0m\n\u001b[0;32m      4\u001b[0m \u001b[1;33m\u001b[0m\u001b[0m\n\u001b[0;32m      5\u001b[0m \u001b[1;33m\u001b[0m\u001b[0m\n\u001b[1;32m----> 6\u001b[1;33m \u001b[0mextra_pred\u001b[0m \u001b[1;33m=\u001b[0m \u001b[0mextra_model\u001b[0m\u001b[1;33m.\u001b[0m\u001b[0mfit\u001b[0m\u001b[1;33m(\u001b[0m\u001b[0mX_train\u001b[0m\u001b[1;33m,\u001b[0m \u001b[0my_train\u001b[0m\u001b[1;33m)\u001b[0m\u001b[1;33m\u001b[0m\u001b[1;33m\u001b[0m\u001b[0m\n\u001b[0m\u001b[0;32m      7\u001b[0m \u001b[1;31m#print(model.feature_importances_)\u001b[0m\u001b[1;33m\u001b[0m\u001b[1;33m\u001b[0m\u001b[0m\n",
      "\u001b[1;31mNameError\u001b[0m: name 'X_train' is not defined"
     ]
    }
   ],
   "source": [
    "\n",
    "extra_model = ExtraTreesClassifier()\n",
    "# print the performance measures\n",
    "#print(test_report)\n",
    "\n",
    "\n",
    "extra_pred = extra_model.fit(X_train, y_train)\n",
    "#print(model.feature_importances_)"
   ]
  },
  {
   "cell_type": "code",
   "execution_count": null,
   "id": "3j_Fv13HhxdA",
   "metadata": {
    "colab": {
     "base_uri": "https://localhost:8080/"
    },
    "id": "3j_Fv13HhxdA",
    "outputId": "f27b7670-0734-41bb-b07f-a50ca6dbc503"
   },
   "outputs": [],
   "source": [
    "test_report = get_test_report(extra_model)\n",
    "print(test_report)"
   ]
  },
  {
   "cell_type": "code",
   "execution_count": 233,
   "id": "MErA4IUxhxfY",
   "metadata": {
    "id": "MErA4IUxhxfY"
   },
   "outputs": [],
   "source": [
    "from sklearn.tree import DecisionTreeClassifier\n",
    "dtc = DecisionTreeClassifier(criterion = 'entropy', max_depth = 20, min_samples_leaf = 20)\n",
    "dtc_pred = dtc.fit(X_train, y_train)\n"
   ]
  },
  {
   "cell_type": "code",
   "execution_count": 234,
   "id": "d72tf34_hxhu",
   "metadata": {
    "colab": {
     "base_uri": "https://localhost:8080/"
    },
    "id": "d72tf34_hxhu",
    "outputId": "88e621b1-4cc3-4763-d7c6-9d80ef14fecd"
   },
   "outputs": [
    {
     "name": "stdout",
     "output_type": "stream",
     "text": [
      "              precision    recall  f1-score   support\n",
      "\n",
      "           0       0.93      0.99      0.96    229405\n",
      "           1       0.62      0.18      0.28     22107\n",
      "\n",
      "    accuracy                           0.92    251512\n",
      "   macro avg       0.77      0.59      0.62    251512\n",
      "weighted avg       0.90      0.92      0.90    251512\n",
      "\n"
     ]
    }
   ],
   "source": [
    "train_report = get_train_report(dtc)\n",
    "print(train_report)"
   ]
  },
  {
   "cell_type": "code",
   "execution_count": 235,
   "id": "JPo45Dl1hxkF",
   "metadata": {
    "colab": {
     "base_uri": "https://localhost:8080/"
    },
    "id": "JPo45Dl1hxkF",
    "outputId": "7c98dbb1-795e-4d1b-e689-99610c791a44"
   },
   "outputs": [
    {
     "data": {
      "text/plain": [
       "array([[9.99874651e-01, 1.25348938e-04],\n",
       "       [1.00000000e+00, 2.17590997e-12],\n",
       "       [9.96966504e-01, 3.03349639e-03],\n",
       "       [1.00000000e+00, 1.21623364e-18],\n",
       "       [5.61141561e-02, 9.43885844e-01],\n",
       "       [9.99976793e-01, 2.32069044e-05],\n",
       "       [9.76645477e-01, 2.33545229e-02],\n",
       "       [9.99996651e-01, 3.34921908e-06],\n",
       "       [7.90582493e-01, 2.09417507e-01],\n",
       "       [6.87348294e-01, 3.12651706e-01]])"
      ]
     },
     "execution_count": 235,
     "metadata": {},
     "output_type": "execute_result"
    }
   ],
   "source": [
    "NB=GaussianNB()\n",
    "NB.fit(X_train,y_train)\n",
    "y_prob=NB.predict_proba(X_test)\n",
    "y_prob[:10]"
   ]
  },
  {
   "cell_type": "code",
   "execution_count": 236,
   "id": "b5MWhl9HhxmW",
   "metadata": {
    "colab": {
     "base_uri": "https://localhost:8080/"
    },
    "id": "b5MWhl9HhxmW",
    "outputId": "05e416cf-ee79-40ee-dd22-65c044fde302"
   },
   "outputs": [
    {
     "data": {
      "text/plain": [
       "array([0, 0, 0, 0, 1, 0, 0, 0, 0, 0])"
      ]
     },
     "execution_count": 236,
     "metadata": {},
     "output_type": "execute_result"
    }
   ],
   "source": [
    "y_class=NB.predict(X_test)\n",
    "y_class[:10]"
   ]
  },
  {
   "cell_type": "code",
   "execution_count": 237,
   "id": "B51p8P3Ohxoz",
   "metadata": {
    "colab": {
     "base_uri": "https://localhost:8080/"
    },
    "id": "B51p8P3Ohxoz",
    "outputId": "523264cd-b583-4576-e54c-7b22ab6a8950"
   },
   "outputs": [
    {
     "name": "stdout",
     "output_type": "stream",
     "text": [
      "              precision    recall  f1-score   support\n",
      "\n",
      "           0       0.97      0.75      0.84     93701\n",
      "           1       0.22      0.73      0.34      9030\n",
      "\n",
      "    accuracy                           0.75    102731\n",
      "   macro avg       0.59      0.74      0.59    102731\n",
      "weighted avg       0.90      0.75      0.80    102731\n",
      "\n"
     ]
    }
   ],
   "source": [
    "test_report = get_test_report(NB)\n",
    "print(test_report)"
   ]
  },
  {
   "cell_type": "code",
   "execution_count": 238,
   "id": "ANPOHQU2hxrP",
   "metadata": {
    "colab": {
     "base_uri": "https://localhost:8080/"
    },
    "id": "ANPOHQU2hxrP",
    "outputId": "0fd66bc5-ebbe-45f6-f004-630fac538581"
   },
   "outputs": [
    {
     "data": {
      "text/plain": [
       "AdaBoostClassifier(n_estimators=60, random_state=10)"
      ]
     },
     "execution_count": 238,
     "metadata": {},
     "output_type": "execute_result"
    }
   ],
   "source": [
    "# # instantiate the 'AdaBoostClassifier'\n",
    "# # n_estimators: number of estimators at which boosting is terminated\n",
    "# # pass the 'random_state' to obtain the same results for each code implementation\n",
    "ada_model = AdaBoostClassifier(n_estimators = 60, random_state = 10)\n",
    "\n",
    "#fit the model using fit() on train data\n",
    "ada_model.fit(X_train, y_train)"
   ]
  },
  {
   "cell_type": "code",
   "execution_count": 239,
   "id": "-b5FwG-khxuI",
   "metadata": {
    "colab": {
     "base_uri": "https://localhost:8080/"
    },
    "id": "-b5FwG-khxuI",
    "outputId": "ba04ad1b-508b-4279-fd7d-9cc34d6d332d"
   },
   "outputs": [
    {
     "name": "stdout",
     "output_type": "stream",
     "text": [
      "              precision    recall  f1-score   support\n",
      "\n",
      "           0       0.92      0.99      0.95     93701\n",
      "           1       0.51      0.12      0.19      9030\n",
      "\n",
      "    accuracy                           0.91    102731\n",
      "   macro avg       0.71      0.55      0.57    102731\n",
      "weighted avg       0.88      0.91      0.89    102731\n",
      "\n"
     ]
    }
   ],
   "source": [
    "test_report = get_test_report(ada_model)\n",
    "print(test_report)"
   ]
  },
  {
   "cell_type": "code",
   "execution_count": 240,
   "id": "2eoE2RPVhxwz",
   "metadata": {
    "colab": {
     "base_uri": "https://localhost:8080/"
    },
    "id": "2eoE2RPVhxwz",
    "outputId": "4ead8ecb-069a-45b5-ac12-2924e630c37d"
   },
   "outputs": [
    {
     "data": {
      "text/plain": [
       "StackingClassifier(estimators=[('rf_model',\n",
       "                                RandomForestClassifier(criterion='entropy',\n",
       "                                                       max_depth=12,\n",
       "                                                       max_features='sqrt',\n",
       "                                                       max_leaf_nodes=8,\n",
       "                                                       min_samples_leaf=5,\n",
       "                                                       n_estimators=50,\n",
       "                                                       random_state=10)),\n",
       "                               ('ada_model_dt',\n",
       "                                AdaBoostClassifier(n_estimators=60,\n",
       "                                                   random_state=10)),\n",
       "                               ('NB_model', GaussianNB())],\n",
       "                   final_estimator=AdaBoostClassifier())"
      ]
     },
     "execution_count": 240,
     "metadata": {},
     "output_type": "execute_result"
    }
   ],
   "source": [
    "# consider the various algorithms as base learners\n",
    "base_learners = [('rf_model', RandomForestClassifier(criterion = 'entropy', max_depth = 12, max_features = 'sqrt', \n",
    "                                                     max_leaf_nodes = 8, min_samples_leaf = 5, min_samples_split = 2, \n",
    "                                                     n_estimators = 50, random_state = 10)),\n",
    "                 ('ada_model_dt', AdaBoostClassifier(n_estimators = 60, random_state = 10)),\n",
    "                 ('NB_model', GaussianNB())]\n",
    "\n",
    "# initialize stacking classifier \n",
    "# pass the base learners to the parameter, 'estimators'\n",
    "# pass the Naive Bayes model as the 'final_estimator'/ meta model\n",
    "stack_model = StackingClassifier(estimators = base_learners, final_estimator = AdaBoostClassifier())\n",
    "\n",
    "# fit the model on train dataset\n",
    "stack_model.fit(X_train, y_train)"
   ]
  },
  {
   "cell_type": "code",
   "execution_count": 241,
   "id": "ubciAj7ohxyj",
   "metadata": {
    "colab": {
     "base_uri": "https://localhost:8080/"
    },
    "id": "ubciAj7ohxyj",
    "outputId": "4e6cc6d1-4589-4766-a955-93ba82b3f192"
   },
   "outputs": [
    {
     "name": "stdout",
     "output_type": "stream",
     "text": [
      "              precision    recall  f1-score   support\n",
      "\n",
      "           0       0.92      0.99      0.95     93701\n",
      "           1       0.52      0.10      0.16      9030\n",
      "\n",
      "    accuracy                           0.91    102731\n",
      "   macro avg       0.72      0.54      0.56    102731\n",
      "weighted avg       0.88      0.91      0.88    102731\n",
      "\n"
     ]
    }
   ],
   "source": [
    "test_report = get_test_report(stack_model)\n",
    "print(test_report)"
   ]
  },
  {
   "cell_type": "code",
   "execution_count": 242,
   "id": "TLMEDz6-hx1G",
   "metadata": {
    "id": "TLMEDz6-hx1G"
   },
   "outputs": [],
   "source": [
    "# bagging classifier\n",
    "bg_model = BaggingClassifier(\n",
    "                          n_estimators =150,\n",
    "                          random_state = 10).fit(X_train,y_train)\n",
    "\n",
    "  \n"
   ]
  },
  {
   "cell_type": "code",
   "execution_count": 243,
   "id": "btSYsidOhx3U",
   "metadata": {
    "colab": {
     "base_uri": "https://localhost:8080/"
    },
    "id": "btSYsidOhx3U",
    "outputId": "0494fd66-14eb-4aa7-a659-8a4d883840a6"
   },
   "outputs": [
    {
     "name": "stdout",
     "output_type": "stream",
     "text": [
      "              precision    recall  f1-score   support\n",
      "\n",
      "           0       0.92      0.98      0.95     93701\n",
      "           1       0.36      0.14      0.20      9030\n",
      "\n",
      "    accuracy                           0.90    102731\n",
      "   macro avg       0.64      0.56      0.57    102731\n",
      "weighted avg       0.87      0.90      0.88    102731\n",
      "\n"
     ]
    }
   ],
   "source": [
    "test_report = get_test_report(bg_model) #model predection on test data\n",
    "print(test_report)"
   ]
  },
  {
   "cell_type": "code",
   "execution_count": 243,
   "id": "Ch4kLO7yhx5s",
   "metadata": {
    "id": "Ch4kLO7yhx5s"
   },
   "outputs": [],
   "source": []
  },
  {
   "cell_type": "code",
   "execution_count": 244,
   "id": "0E1NGmvUhx8D",
   "metadata": {
    "colab": {
     "base_uri": "https://localhost:8080/"
    },
    "id": "0E1NGmvUhx8D",
    "outputId": "804bd673-2f44-4cb6-948e-98b65ac0390e"
   },
   "outputs": [
    {
     "name": "stdout",
     "output_type": "stream",
     "text": [
      "0.7820513662819212\n"
     ]
    }
   ],
   "source": [
    "plot_roc(bg_model)"
   ]
  },
  {
   "cell_type": "code",
   "execution_count": 245,
   "id": "t4nlp6Mphx-Y",
   "metadata": {
    "id": "t4nlp6Mphx-Y"
   },
   "outputs": [],
   "source": [
    "#boosting the base models "
   ]
  },
  {
   "cell_type": "markdown",
   "id": "dmQl-ewNqnC9",
   "metadata": {
    "id": "dmQl-ewNqnC9"
   },
   "source": []
  },
  {
   "cell_type": "code",
   "execution_count": 246,
   "id": "qtskx8BBhyAw",
   "metadata": {
    "id": "qtskx8BBhyAw"
   },
   "outputs": [],
   "source": [
    "# hyper parameter tuning by grid search by descision tree"
   ]
  },
  {
   "cell_type": "code",
   "execution_count": 247,
   "id": "hyrR4c5ohyDe",
   "metadata": {
    "id": "hyrR4c5ohyDe"
   },
   "outputs": [],
   "source": [
    "# # create a dictionary with hyperparameters and its values\n",
    "# # pass the criteria 'entropy' and 'gini' to the parameter, 'criterion' \n",
    "# # pass the range of values to 'max_depth' that assigns maximum depth of the tree\n",
    "# # 'max_features' assigns maximum number of features to consider for the best split. We pass the string 'sqrt' and 'log2'\n",
    "# # 'sqrt' considers maximum number of features equal to the square root of total features\n",
    "# # 'log2' considers maximum number of features equal to the log of total features with base 2\n",
    "# # pass the range of values to 'min_samples_split' that assigns minimum number of samples to split an internal node\n",
    "# # pass the range of values to 'min_samples_leaf' that assigns minimum number of samples required at the terminal/leaf node\n",
    "# # pass the range of values to 'max_leaf_nodes' that assigns maximum number of leaf nodes in the tree\n",
    "# tuned_paramaters = [{'criterion': ['entropy', 'gini'], \n",
    "#                      'max_depth': range(8, 15),\n",
    "#                      'max_features': [\"sqrt\", \"log2\"],\n",
    "#                      'min_samples_split': range(5,10),\n",
    "#                      'min_samples_leaf': range(5,10),\n",
    "#                      'max_leaf_nodes': range(5, 10)}]\n",
    " \n",
    "# # instantiate the 'DecisionTreeClassifier' \n",
    "# # pass the 'random_state' to obtain the same samples for each time you run the code\n",
    "# decision_tree_classification = DecisionTreeClassifier(random_state = 10)\n",
    "\n",
    "# # use GridSearchCV() to find the optimal value of the hyperparameters\n",
    "# # estimator: pass the decision tree classifier model\n",
    "# # param_grid: pass the list 'tuned_parameters'\n",
    "# # cv: number of folds in k-fold i.e. here cv = 5\n",
    "# tree_grid = GridSearchCV(estimator = decision_tree_classification, \n",
    "#                          param_grid = tuned_paramaters, \n",
    "#                          cv = 4)\n",
    "\n",
    "# # fit the model on X_train and y_train using fit()\n",
    "# tree_grid_model = tree_grid.fit(X_train, y_train)\n",
    "\n",
    "# # get the best parameters\n",
    "# print('Best parameters for decision tree classifier: ', tree_grid_model.best_params_, '\\n')"
   ]
  },
  {
   "cell_type": "code",
   "execution_count": 248,
   "id": "c0FzXoot-NUk",
   "metadata": {
    "id": "c0FzXoot-NUk"
   },
   "outputs": [],
   "source": [
    "#got parameters Best parameters for decision tree classifier:  {'criterion': 'entropy', 'max_depth': 8, 'max_features': 'sqrt', 'max_leaf_nodes': 5, 'min_samples_leaf': 5, 'min_samples_split': 5} "
   ]
  },
  {
   "cell_type": "code",
   "execution_count": 249,
   "id": "vZGINN5GhyFr",
   "metadata": {
    "id": "vZGINN5GhyFr"
   },
   "outputs": [],
   "source": [
    "# instantiate the 'DecisionTreeClassifier'\n",
    "# 'best_params_' returns the dictionary containing best parameter values and parameter name  \n",
    "# 'get()' returns the value of specified parameter\n",
    "# pass the 'random_state' to obtain the same samples for each time you run the code\n",
    "# dt_model = DecisionTreeClassifier(criterion = tree_grid_model.best_params_.get('criterion'),\n",
    "#                                   max_depth = tree_grid_model.best_params_.get('max_depth'),\n",
    "#                                   max_features = tree_grid_model.best_params_.get('max_features'),\n",
    "#                                   max_leaf_nodes = tree_grid_model.best_params_.get('max_leaf_nodes'),\n",
    "#                                   min_samples_leaf = tree_grid_model.best_params_.get('min_samples_leaf'),\n",
    "#                                   min_samples_split = tree_grid_model.best_params_.get('min_samples_split'),\n",
    "#                                   random_state = 10)\n",
    "dt_model = DecisionTreeClassifier(criterion ='entropy',\n",
    "                                  max_depth =8,\n",
    "                                  max_features ='sqrt',\n",
    "                                  max_leaf_nodes =5 ,\n",
    "                                  min_samples_leaf = 5,\n",
    "                                  min_samples_split = 5,\n",
    "                                  random_state = 10)\n",
    "\n",
    "# use fit() to fit the model on the train set\n",
    "dt_model = dt_model.fit(X_train, y_train)"
   ]
  },
  {
   "cell_type": "code",
   "execution_count": 250,
   "id": "WpJWFjqkhyIR",
   "metadata": {
    "id": "WpJWFjqkhyIR"
   },
   "outputs": [],
   "source": [
    "#Random forest hyper parameter tuning with Grid search"
   ]
  },
  {
   "cell_type": "code",
   "execution_count": 251,
   "id": "D0rqA5wghyKp",
   "metadata": {
    "id": "D0rqA5wghyKp"
   },
   "outputs": [],
   "source": [
    "# # create a dictionary with hyperparameters and its values\n",
    "# # pass the criteria 'entropy' and 'gini' to the parameter, 'criterion' \n",
    "# # pass a list of values to 'n_estimators' to build the different number of trees in the random forest\n",
    "# # pass a list of values to 'max_depth' that assigns maximum depth of the tree\n",
    "# # 'max_features' assigns maximum number of features to consider for the best split. We pass the string 'sqrt' and 'log2'\n",
    "# # 'sqrt' considers maximum number of features equal to the square root of total features\n",
    "# # 'log2' considers maximum number of features equal to the log of total features with base 2\n",
    "# # pass a list of values to 'min_samples_split' that assigns minimum number of samples to split an internal node\n",
    "# # pass a list of values to 'min_samples_leaf' that assigns minimum number of samples required at the terminal/leaf node\n",
    "# # pass a list of values to 'max_leaf_nodes' that assigns maximum number of leaf nodes in the tree\n",
    "# tuned_paramaters = [{'criterion': ['entropy', 'gini'],\n",
    "#                      'n_estimators': [ 30, 50, 70, 90],\n",
    "#                      'max_depth': [10, 15, 20],\n",
    "#                      'max_features': ['sqrt', 'log2'],\n",
    "#                      'min_samples_split': [2, 5, 8, 11],\n",
    "#                      'min_samples_leaf': [1, 5, 9],\n",
    "#                      'max_leaf_nodes': [8, 11]}]\n",
    " \n",
    "# # instantiate the 'RandomForestClassifier' \n",
    "# # pass the 'random_state' to obtain the same samples for each time you run the code\n",
    "# random_forest_classification = RandomForestClassifier(random_state = 10)\n",
    "\n",
    "# # use GridSearchCV() to find the optimal value of the hyperparameters\n",
    "# # estimator: pass the random forest classifier model\n",
    "# # param_grid: pass the list 'tuned_parameters'\n",
    "# # cv: number of folds in k-fold i.e. here cv = 5\n",
    "# rf_grid = GridSearchCV(estimator = random_forest_classification, \n",
    "#                        param_grid = tuned_paramaters, \n",
    "#                        cv =4,scoring='roc_auc')\n",
    "\n",
    "# # use fit() to fit the model on the train set\n",
    "# rf_grid_model = rf_grid.fit(X_train, y_train)\n",
    "\n",
    "# # get the best parameters\n",
    "# print('Best parameters for random forest classifier: ', rf_grid_model.best_params_, '\\n')"
   ]
  },
  {
   "cell_type": "code",
   "execution_count": 252,
   "id": "2C9KMLMy5Jj6",
   "metadata": {
    "id": "2C9KMLMy5Jj6"
   },
   "outputs": [],
   "source": [
    "#Best parameters for random forest classifier:  {'criterion': 'entropy', 'max_depth': 10, 'max_features': 'log2', 'max_leaf_nodes': 11, 'min_samples_leaf': 1, 'min_samples_split': 2, 'n_estimators': 90} \n"
   ]
  },
  {
   "cell_type": "code",
   "execution_count": 253,
   "id": "vxpyFTlJhyNA",
   "metadata": {
    "colab": {
     "base_uri": "https://localhost:8080/"
    },
    "id": "vxpyFTlJhyNA",
    "outputId": "f5aca9ca-7343-4226-8988-8cf5a192b582"
   },
   "outputs": [
    {
     "name": "stdout",
     "output_type": "stream",
     "text": [
      "Classification Report for test set:\n",
      "               precision    recall  f1-score   support\n",
      "\n",
      "           0       0.91      1.00      0.95     93701\n",
      "           1       0.00      0.00      0.00      9030\n",
      "\n",
      "    accuracy                           0.91    102731\n",
      "   macro avg       0.46      0.50      0.48    102731\n",
      "weighted avg       0.83      0.91      0.87    102731\n",
      "\n"
     ]
    }
   ],
   "source": [
    "# instantiate the 'RandomForestClassifier'\n",
    "# 'best_params_' returns the dictionary containing best parameter values and parameter name  \n",
    "# 'get()' returns the value of specified parameter\n",
    "# pass the 'random_state' to obtain the same samples for each time you run the code\n",
    "# rf_model = RandomForestClassifier(criterion = rf_grid_model.best_params_.get('criterion'), \n",
    "#                                   n_estimators = rf_grid_model.best_params_.get('n_estimators'),\n",
    "#                                   max_depth = rf_grid_model.best_params_.get('max_depth'),\n",
    "#                                   max_features = rf_grid_model.best_params_.get('max_features'),\n",
    "#                                   max_leaf_nodes = rf_grid_model.best_params_.get('max_leaf_nodes'),\n",
    "#                                   min_samples_leaf = rf_grid_model.best_params_.get('min_samples_leaf'),\n",
    "#                                   min_samples_split = rf_grid_model.best_params_.get('min_samples_split'),\n",
    "#                                   random_state = 10)\n",
    "rf_model = RandomForestClassifier(criterion ='entropy', \n",
    "                                  n_estimators = 90,\n",
    "                                  max_depth = 10,\n",
    "                                  max_features ='log2',\n",
    "                                  max_leaf_nodes =11 ,\n",
    "                                  min_samples_leaf =1,\n",
    "                                  min_samples_split = 2,\n",
    "                                  random_state = 10)\n",
    "\n",
    "# use fit() to fit the model on the train set\n",
    "rf_grid_model = rf_model.fit(X_train, y_train)\n",
    "\n",
    "# print the performance measures for test set for the model with best parameters\n",
    "print('Classification Report for test set:\\n', get_test_report(rf_model))"
   ]
  },
  {
   "cell_type": "code",
   "execution_count": 254,
   "id": "WFzgl7gbhyPn",
   "metadata": {
    "id": "WFzgl7gbhyPn"
   },
   "outputs": [],
   "source": [
    "#boosting base models descision tree"
   ]
  },
  {
   "cell_type": "code",
   "execution_count": 255,
   "id": "x3Iv1jfM4yX9",
   "metadata": {
    "id": "x3Iv1jfM4yX9"
   },
   "outputs": [],
   "source": [
    "dt_model = DecisionTreeClassifier(criterion = 'entropy',\n",
    "                                   max_depth = 8,\n",
    "                                   max_features = 'sqrt',\n",
    "                                   max_leaf_nodes = 5,\n",
    "                                   min_samples_leaf = 5,\n",
    "                                   min_samples_split = 5,\n",
    "                                   random_state = 5)\n",
    "dt_model = dt_model.fit(X_train, y_train)"
   ]
  },
  {
   "cell_type": "code",
   "execution_count": 256,
   "id": "6mLcdNrwhyR-",
   "metadata": {
    "colab": {
     "base_uri": "https://localhost:8080/"
    },
    "id": "6mLcdNrwhyR-",
    "outputId": "cd4136b9-ad30-4fba-c335-0359bbbe1a5e"
   },
   "outputs": [
    {
     "data": {
      "text/plain": [
       "AdaBoostClassifier(base_estimator=DecisionTreeClassifier(criterion='entropy',\n",
       "                                                         max_depth=20,\n",
       "                                                         min_samples_leaf=20),\n",
       "                   n_estimators=60, random_state=10)"
      ]
     },
     "execution_count": 256,
     "metadata": {},
     "output_type": "execute_result"
    }
   ],
   "source": [
    "# # instantiate the 'AdaBoostClassifier'\n",
    "# # n_estimators: number of estimators at which boosting is terminated\n",
    "# # pass the 'random_state' to obtain the same results for each code implementation\n",
    "ada_model_dt = AdaBoostClassifier(base_estimator= dtc,n_estimators = 60, random_state = 10)\n",
    "\n",
    "#fit the model using fit() on train data\n",
    "ada_model_dt.fit(X_train, y_train)"
   ]
  },
  {
   "cell_type": "code",
   "execution_count": 257,
   "id": "f-OTLWqWhyUU",
   "metadata": {
    "colab": {
     "base_uri": "https://localhost:8080/"
    },
    "id": "f-OTLWqWhyUU",
    "outputId": "22eca26a-e72d-4af5-bf0a-41a08e83ac70"
   },
   "outputs": [
    {
     "name": "stdout",
     "output_type": "stream",
     "text": [
      "Classification Report for test set: \n",
      "               precision    recall  f1-score   support\n",
      "\n",
      "           0       0.91      1.00      0.95     93701\n",
      "           1       0.00      0.00      0.00      9030\n",
      "\n",
      "    accuracy                           0.91    102731\n",
      "   macro avg       0.46      0.50      0.48    102731\n",
      "weighted avg       0.83      0.91      0.87    102731\n",
      "\n"
     ]
    }
   ],
   "source": [
    "print('Classification Report for test set: \\n', get_test_report(dt_model))"
   ]
  },
  {
   "cell_type": "code",
   "execution_count": 258,
   "id": "0E_qoi9KhyWg",
   "metadata": {
    "id": "0E_qoi9KhyWg"
   },
   "outputs": [],
   "source": [
    "#boosting base model random forest"
   ]
  },
  {
   "cell_type": "code",
   "execution_count": 259,
   "id": "8tKgmjfOhyZD",
   "metadata": {
    "colab": {
     "base_uri": "https://localhost:8080/"
    },
    "id": "8tKgmjfOhyZD",
    "outputId": "c30343d5-9193-4e09-e6d0-10f1dfe8dc32"
   },
   "outputs": [
    {
     "data": {
      "text/plain": [
       "AdaBoostClassifier(base_estimator=RandomForestClassifier(criterion='entropy',\n",
       "                                                         max_depth=10,\n",
       "                                                         max_features='log2',\n",
       "                                                         max_leaf_nodes=11,\n",
       "                                                         n_estimators=90,\n",
       "                                                         random_state=10),\n",
       "                   n_estimators=60, random_state=10)"
      ]
     },
     "execution_count": 259,
     "metadata": {},
     "output_type": "execute_result"
    }
   ],
   "source": [
    "# # instantiate the 'AdaBoostClassifier'\n",
    "# # n_estimators: number of estimators at which boosting is terminated\n",
    "# # pass the 'random_state' to obtain the same results for each code implementation\n",
    "ada_model_rf = AdaBoostClassifier(base_estimator= rf_model,n_estimators = 60, random_state = 10)\n",
    "\n",
    "#fit the model using fit() on train data\n",
    "ada_model_rf.fit(X_train, y_train)"
   ]
  },
  {
   "cell_type": "code",
   "execution_count": 260,
   "id": "ejFlhSDwFtuN",
   "metadata": {
    "id": "ejFlhSDwFtuN"
   },
   "outputs": [],
   "source": [
    "#stacking models with randomforest+adabost+descision tree"
   ]
  },
  {
   "cell_type": "code",
   "execution_count": 261,
   "id": "wjUp2O5gFtzM",
   "metadata": {
    "colab": {
     "base_uri": "https://localhost:8080/"
    },
    "id": "wjUp2O5gFtzM",
    "outputId": "4e6dd31e-0384-4b97-fc6f-f382ecef509c"
   },
   "outputs": [
    {
     "data": {
      "text/plain": [
       "StackingClassifier(estimators=[('rf_model',\n",
       "                                RandomForestClassifier(criterion='entropy',\n",
       "                                                       max_depth=10,\n",
       "                                                       max_features='sqrt',\n",
       "                                                       max_leaf_nodes=8,\n",
       "                                                       min_samples_leaf=5,\n",
       "                                                       n_estimators=50,\n",
       "                                                       random_state=10)),\n",
       "                               ('ada_model_dt',\n",
       "                                AdaBoostClassifier(n_estimators=60,\n",
       "                                                   random_state=10)),\n",
       "                               ('DT_model',\n",
       "                                DecisionTreeClassifier(criterion='entropy',\n",
       "                                                       max_depth=8,\n",
       "                                                       max_features='sqrt',\n",
       "                                                       max_leaf_nodes=5,\n",
       "                                                       min_samples_leaf=5,\n",
       "                                                       min_samples_split=5,\n",
       "                                                       random_state=5))],\n",
       "                   final_estimator=AdaBoostClassifier())"
      ]
     },
     "execution_count": 261,
     "metadata": {},
     "output_type": "execute_result"
    }
   ],
   "source": [
    "# consider the various algorithms as base learners\n",
    "base_learners = [('rf_model', RandomForestClassifier(criterion = 'entropy', max_depth = 10, max_features = 'sqrt', \n",
    "                                                     max_leaf_nodes = 8, min_samples_leaf = 5, min_samples_split = 2, \n",
    "                                                     n_estimators = 50, random_state = 10)),\n",
    "                 ('ada_model_dt', AdaBoostClassifier(n_estimators = 60, random_state = 10)),\n",
    "                 ('DT_model',DecisionTreeClassifier(criterion = 'entropy',\n",
    "                                   max_depth = 8,\n",
    "                                   max_features = 'sqrt',\n",
    "                                   max_leaf_nodes = 5,\n",
    "                                   min_samples_leaf = 5,\n",
    "                                   min_samples_split = 5,\n",
    "                                   random_state = 5))]\n",
    "\n",
    "# initialize stacking classifier \n",
    "# pass the base learners to the parameter, 'estimators'\n",
    "# pass the Naive Bayes model as the 'final_estimator'/ meta model\n",
    "stack_model_ada_dt_rf = StackingClassifier(estimators = base_learners, final_estimator = AdaBoostClassifier())\n",
    "\n",
    "# fit the model on train dataset\n",
    "stack_model_ada_dt_rf.fit(X_train, y_train)"
   ]
  },
  {
   "cell_type": "code",
   "execution_count": null,
   "id": "6385c13a",
   "metadata": {},
   "outputs": [],
   "source": []
  },
  {
   "cell_type": "code",
   "execution_count": 262,
   "id": "rsdP7e7JFt3W",
   "metadata": {
    "id": "rsdP7e7JFt3W"
   },
   "outputs": [],
   "source": [
    "#applying light GBM classification "
   ]
  },
  {
   "cell_type": "code",
   "execution_count": 263,
   "id": "3FEjStLhIJhj",
   "metadata": {
    "id": "3FEjStLhIJhj"
   },
   "outputs": [],
   "source": [
    "import lightgbm as lgb\n",
    "\n",
    "light=lgb.LGBMClassifier(lambda_l1=1.5,lambda_l2=1,min_data_in_leaf=30,num_leaves=30,reg_alpha=0.1)"
   ]
  },
  {
   "cell_type": "code",
   "execution_count": 264,
   "id": "e4o86JKxIJk2",
   "metadata": {
    "id": "e4o86JKxIJk2"
   },
   "outputs": [],
   "source": [
    "light_gbm=light.fit(X_train,y_train)"
   ]
  },
  {
   "cell_type": "code",
   "execution_count": 265,
   "id": "D1oTNGOsIJoJ",
   "metadata": {
    "id": "D1oTNGOsIJoJ"
   },
   "outputs": [],
   "source": [
    "#applying xg boost with descision tree"
   ]
  },
  {
   "cell_type": "code",
   "execution_count": 266,
   "id": "hWJhlPsmIJ7r",
   "metadata": {
    "colab": {
     "base_uri": "https://localhost:8080/"
    },
    "id": "hWJhlPsmIJ7r",
    "outputId": "e8d2f9db-74e7-406c-b409-d6eaa842a5c8"
   },
   "outputs": [
    {
     "data": {
      "text/plain": [
       "XGBClassifier(base_estimator=DecisionTreeClassifier(criterion='entropy',\n",
       "                                                    max_depth=8,\n",
       "                                                    max_features='sqrt',\n",
       "                                                    max_leaf_nodes=5,\n",
       "                                                    min_samples_leaf=5,\n",
       "                                                    min_samples_split=5,\n",
       "                                                    random_state=5),\n",
       "              gamma=0.5, max_depth=10)"
      ]
     },
     "execution_count": 266,
     "metadata": {},
     "output_type": "execute_result"
    }
   ],
   "source": [
    "# instantiate the 'XGBClassifier'\n",
    "# set the maximum depth of the tree using the parameter, 'max_depth'\n",
    "# pass the value of minimum loss reduction required for partition of the leaf node to the parameter, 'gamma'\n",
    "xgb_model_dt = XGBClassifier(base_estimator=dt_model,max_depth = 10, gamma =0.5)\n",
    "\n",
    "# fit the model using fit() on train data\n",
    "xgb_model_dt.fit(X_train, y_train)"
   ]
  },
  {
   "cell_type": "code",
   "execution_count": 266,
   "id": "95y2KEgAFt6z",
   "metadata": {
    "id": "95y2KEgAFt6z"
   },
   "outputs": [],
   "source": []
  },
  {
   "cell_type": "code",
   "execution_count": 80,
   "id": "B4diiIkMhyfw",
   "metadata": {
    "id": "B4diiIkMhyfw"
   },
   "outputs": [],
   "source": [
    "from sklearn.metrics import  roc_auc_score,precision_score,f1_score,recall_score"
   ]
  },
  {
   "cell_type": "code",
   "execution_count": 268,
   "id": "o4GSKmeFhyjH",
   "metadata": {
    "id": "o4GSKmeFhyjH"
   },
   "outputs": [],
   "source": [
    "stack_model.fit(X_train, y_train)\n",
    "model_all=[lgr,xgb_model,rf_model,extra_pred,dtc_pred,NB,ada_model,stack_model,dt_model,rf_grid_model,ada_model_dt,ada_model_rf,stack_model_ada_dt_rf,light_gbm,xgb_model_dt]\n",
    "model_scores = { \"Model Name\" : [],\n",
    "                \"Accuracy score train\" : [],\n",
    "               \"Precision_score train\" : [],\n",
    "               \"Recall_Score train\" : [],\n",
    "               \"Roc_AUC_Score train\" : [],\n",
    "                \"F1-Score Train\" : [],\n",
    "               \"Accuracy score test\" : [],\n",
    "               \"Precision_score test\" : [],\n",
    "               \"Recall_Score test\" : [],\n",
    "               \"Roc_AUC_Score test\" : [],\n",
    "               \"F1-Score test\" : []}\n",
    "\n",
    "for model in model_all:\n",
    "    \n",
    "    model_scores['Model Name'].append(str(model))\n",
    "    pred_tr = model.predict(X_train)\n",
    "    model_scores['Accuracy score train'].append(model.score(X_train,y_train))\n",
    "     \n",
    "    model_scores['Precision_score train'].append(precision_score(y_train,pred_tr))\n",
    "    model_scores['Recall_Score train'].append(recall_score(y_train,pred_tr))\n",
    "    model_scores['Roc_AUC_Score train'].append(roc_auc_score(y_train,pred_tr))\n",
    "    model_scores['F1-Score Train'].append(f1_score(y_train,pred_tr))\n",
    "    \n",
    "    pred_ts = model.predict(X_test) \n",
    "    model_scores['Accuracy score test'].append(model.score(X_test,y_test))\n",
    "     \n",
    "    model_scores['Precision_score test'].append(precision_score(y_test,pred_ts))\n",
    "    model_scores['Recall_Score test'].append(recall_score(y_test,pred_ts))\n",
    "    model_scores['Roc_AUC_Score test'].append(roc_auc_score(y_test,pred_ts))\n",
    "    model_scores['F1-Score test'].append(f1_score(y_test,pred_ts))\n",
    "\n",
    "scores_df=pd.DataFrame(model_scores)"
   ]
  },
  {
   "cell_type": "code",
   "execution_count": 269,
   "id": "Qr_kWWLGD6fj",
   "metadata": {
    "id": "Qr_kWWLGD6fj"
   },
   "outputs": [],
   "source": [
    "scores_df.to_excel('final_originaldata_score.xlsx') #to export collected data into excel formate\n"
   ]
  },
  {
   "cell_type": "markdown",
   "id": "9ec7d730",
   "metadata": {
    "id": "pPHME1lmADi-"
   },
   "source": [
    "# K-Fold crossvalidation"
   ]
  },
  {
   "cell_type": "code",
   "execution_count": 274,
   "id": "rOOFC07OB7wx",
   "metadata": {
    "id": "rOOFC07OB7wx"
   },
   "outputs": [],
   "source": [
    "from sklearn.model_selection import KFold\n",
    "from sklearn.model_selection import cross_val_score"
   ]
  },
  {
   "cell_type": "code",
   "execution_count": 270,
   "id": "TDAtxF0V75dj",
   "metadata": {
    "id": "TDAtxF0V75dj"
   },
   "outputs": [],
   "source": [
    "models = []\n",
    "models.append(('Logistic', lgr))\n",
    "models.append(('NaiveBayes', NB))\n",
    "models.append(('KNN',xgb_model))\n",
    "models.append(('DecisionTree',rf_model))\n",
    "models.append(('RandomForest',extra_pred))\n",
    "models.append(('BoostedDT',dtc_pred))\n",
    "models.append(('BoostedLR',ada_model))\n",
    "models.append(('BoostedNB',stack_model))\n",
    "models.append(('GBoost',dt_model))\n",
    "models.append(('VotingC',rf_grid_model))\n",
    "models.append(('StackingC',ada_model_rf))\n",
    "models.append(('XGBoost',ada_model_dt))\n",
    "models.append(('StackingC',stack_model_ada_dt_rf))\n",
    "models.append(('XGBoost',light_gbm))\n",
    "models.append(('StackingC',xgb_model_dt))\n"
   ]
  },
  {
   "cell_type": "code",
   "execution_count": 276,
   "id": "KE-tU5L8BpVz",
   "metadata": {
    "colab": {
     "base_uri": "https://localhost:8080/",
     "height": 800
    },
    "id": "KE-tU5L8BpVz",
    "outputId": "8392aec4-6313-4435-a620-a72be014d8c2"
   },
   "outputs": [
    {
     "name": "stdout",
     "output_type": "stream",
     "text": [
      "Logistic: 0.802770 (0.001775)\n",
      "NaiveBayes: 0.795215 (0.001828)\n",
      "KNN: 0.884416 (0.001467)\n",
      "DecisionTree: 0.870174 (0.001108)\n",
      "RandomForest: 0.878232 (0.001417)\n",
      "BoostedDT: 0.884181 (0.001725)\n",
      "BoostedLR: 0.887780 (0.001455)\n",
      "BoostedNB: 0.882169 (0.002694)\n",
      "GBoost: 0.870174 (0.001108)\n",
      "VotingC: 0.870174 (0.001108)\n",
      "StackingC: 0.883078 (0.001070)\n",
      "XGBoost: 0.875597 (0.000818)\n",
      "StackingC: 0.882147 (0.002693)\n",
      "XGBoost: 0.883192 (0.000890)\n",
      "StackingC: 0.884416 (0.001467)\n"
     ]
    },
    {
     "data": {
      "image/png": "[encoded data removed]",
      "text/plain": [
       "<Figure size 1080x576 with 1 Axes>"
      ]
     },
     "metadata": {
      "needs_background": "light"
     },
     "output_type": "display_data"
    }
   ],
   "source": [
    "# evaluate each model in turn\n",
    "results = []\n",
    "names = []\n",
    "for name, model in models:\n",
    "\tkfold = KFold(shuffle=True,n_splits=3,random_state=0)\n",
    "\tcv_results = cross_val_score(model,X,df_target,cv=kfold, scoring='f1_weighted')\n",
    "\tresults.append(cv_results)\n",
    "\tnames.append(name)\n",
    "\tprint(\"%s: %f (%f)\" % (name, np.mean(cv_results),np.std(cv_results,ddof=1)))\n",
    "#print(results)\n",
    "   # boxplot algorithm comparison\n",
    "plt.rcParams['figure.figsize'] = [15,8]\n",
    "fig = plt.figure()\n",
    "fig.suptitle('Algorithm Comparison')\n",
    "ax = fig.add_subplot(111)\n",
    "plt.boxplot(results).savefig(\"figure.png\")\n",
    "ax.set_xticklabels(names)\n",
    "plt.show()"
   ]
  },
  {
   "cell_type": "code",
   "execution_count": 278,
   "id": "xP5wxxWGBvc4",
   "metadata": {
    "id": "xP5wxxWGBvc4"
   },
   "outputs": [],
   "source": [
    "# Logistic: 0.802770 (0.001775)\n",
    "# NaiveBayes: 0.795215 (0.001828)\n",
    "# KNN: 0.884416 (0.001467)\n",
    "# DecisionTree: 0.870174 (0.001108)\n",
    "# RandomForest: 0.878232 (0.001417)\n",
    "# BoostedDT: 0.884181 (0.001725)\n",
    "# BoostedLR: 0.887780 (0.001455)\n",
    "# BoostedNB: 0.882169 (0.002694)\n",
    "# GBoost: 0.870174 (0.001108)\n",
    "# VotingC: 0.870174 (0.001108)\n",
    "# StackingC: 0.883078 (0.001070)\n",
    "# XGBoost: 0.875597 (0.000818)\n",
    "# StackingC: 0.882147 (0.002693)\n",
    "# XGBoost: 0.883192 (0.000890)\n",
    "# StackingC: 0.884416 (0.001467)"
   ]
  },
  {
   "cell_type": "code",
   "execution_count": null,
   "id": "ce14d216",
   "metadata": {},
   "outputs": [],
   "source": [
    "#building model stats model for checking feture coefficients "
   ]
  },
  {
   "cell_type": "code",
   "execution_count": 280,
   "id": "rI4J9amexhgA",
   "metadata": {
    "id": "rI4J9amexhgA"
   },
   "outputs": [],
   "source": [
    "X1=X.copy() #made new dataframe copy \n",
    "X1 = sm.add_constant(X1) #add constant cloumn  if we use stats model"
   ]
  },
  {
   "cell_type": "code",
   "execution_count": 297,
   "id": "OGF1evywbMYi",
   "metadata": {
    "id": "OGF1evywbMYi"
   },
   "outputs": [],
   "source": [
    "# create an empty dataframe to store the scores for various algorithms\n",
    "score_card = pd.DataFrame(columns=['Probability Cutoff', 'AUC Score', 'Precision Score', 'Recall Score',\n",
    "                                       'Accuracy Score', 'Kappa Score', 'f1-score'])\n",
    "\n",
    "# append the result table for all performance scores\n",
    "# performance measures considered for model comparision are 'AUC Score', 'Precision Score', 'Recall Score','Accuracy Score',\n",
    "# 'Kappa Score', and 'f1-score'\n",
    "# compile the required information in a user defined function \n",
    "def update_score_card(model, cutoff):\n",
    "    \n",
    "    # let 'y_pred_prob' be the predicted values of y\n",
    "    y_pred_prob = logreg.predict(X_test)\n",
    "\n",
    "    # convert probabilities to 0 and 1 using 'if_else'\n",
    "    y_pred = [ 0 if x < cutoff else 1 for x in y_pred_prob]\n",
    "    \n",
    "    # assign 'score_card' as global variable\n",
    "    global score_card\n",
    "\n",
    "    # append the results to the dataframe 'score_card'\n",
    "    # 'ignore_index = True' do not consider the index labels\n",
    "    score_card = score_card.append({'Probability Cutoff': cutoff,\n",
    "                                    'AUC Score' : metrics.roc_auc_score(y_test, y_pred),\n",
    "                                     'Precision Score': metrics.precision_score(y_test, y_pred),\n",
    "                                    'Recall Score': metrics.recall_score(y_test, y_pred),\n",
    "                                    'Accuracy Score': metrics.accuracy_score(y_test, y_pred),\n",
    "                                    'Kappa Score':metrics.cohen_kappa_score(y_test, y_pred),\n",
    "                                    'f1-score': metrics.f1_score(y_test, y_pred)}, \n",
    "                                    ignore_index = True)"
   ]
  },
  {
   "cell_type": "code",
   "execution_count": 313,
   "id": "8z-FlKAvyON5",
   "metadata": {
    "colab": {
     "base_uri": "https://localhost:8080/"
    },
    "id": "8z-FlKAvyON5",
    "outputId": "ef073a59-8989-4788-a51d-fdb001e7309c"
   },
   "outputs": [
    {
     "name": "stdout",
     "output_type": "stream",
     "text": [
      "X_train (230257, 39)\n",
      "y_train (230257,)\n",
      "X_test (123986, 39)\n",
      "y_test (123986,)\n"
     ]
    }
   ],
   "source": [
    "# split data into train subset and test subset\n",
    "# set 'random_state' to generate the same dataset each time you run the code \n",
    "# 'test_size' returns the proportion of data to be included in the testing set\n",
    "X_trainlr,X_testlr, y_trainlr, y_testlr = train_test_split(X1, df_target, random_state = 10, test_size = 0.35,stratify=df_target)\n",
    "\n",
    "# check the dimensions of the train & test subset using 'shape'\n",
    "# print dimension of train set\n",
    "print('X_train', X_trainlr.shape)\n",
    "print('y_train', y_trainlr.shape)\n",
    "\n",
    "# print dimension of test set\n",
    "print('X_test', X_testlr.shape)\n",
    "print('y_test', y_testlr.shape)"
   ]
  },
  {
   "cell_type": "code",
   "execution_count": 307,
   "id": "nG29pzKSxL88",
   "metadata": {
    "colab": {
     "base_uri": "https://localhost:8080/"
    },
    "id": "nG29pzKSxL88",
    "outputId": "7aa76bdc-61c0-43cd-f372-98ba404db5d2"
   },
   "outputs": [
    {
     "name": "stdout",
     "output_type": "stream",
     "text": [
      "Optimization terminated successfully.\n",
      "         Current function value: 0.232029\n",
      "         Iterations 9\n",
      "                           Logit Regression Results                           \n",
      "==============================================================================\n",
      "Dep. Variable:           HeartDisease   No. Observations:               230257\n",
      "Model:                          Logit   Df Residuals:                   230218\n",
      "Method:                           MLE   Df Model:                           38\n",
      "Date:                Thu, 14 Jul 2022   Pseudo R-squ.:                  0.2205\n",
      "Time:                        13:49:29   Log-Likelihood:                -53426.\n",
      "converged:                       True   LL-Null:                       -68535.\n",
      "Covariance Type:            nonrobust   LLR p-value:                     0.000\n",
      "========================================================================================\n",
      "                           coef    std err          z      P>|z|      [0.025      0.975]\n",
      "----------------------------------------------------------------------------------------\n",
      "const                   -5.1772      0.183    -28.332      0.000      -5.535      -4.819\n",
      "BMI                      0.0081      0.001      6.166      0.000       0.006       0.011\n",
      "PhysicalHealth           0.0037      0.001      3.723      0.000       0.002       0.006\n",
      "MentalHealth             0.0051      0.001      4.993      0.000       0.003       0.007\n",
      "SleepTime               -0.0264      0.005     -5.299      0.000      -0.036      -0.017\n",
      "PhysicalActivity_Yes     0.0057      0.019      0.306      0.759      -0.031       0.042\n",
      "Race_Asian only         -0.6092      0.099     -6.147      0.000      -0.803      -0.415\n",
      "Race_Black              -0.4217      0.066     -6.427      0.000      -0.550      -0.293\n",
      "Race_Hawaiian            0.0026      0.134      0.019      0.985      -0.259       0.265\n",
      "Race_Hispanic           -0.2752      0.067     -4.126      0.000      -0.406      -0.144\n",
      "Race_Multiracial        -0.0722      0.081     -0.889      0.374      -0.231       0.087\n",
      "Race_Other              -0.1854      0.107     -1.736      0.083      -0.395       0.024\n",
      "Race_White              -0.1318      0.058     -2.259      0.024      -0.246      -0.017\n",
      "AgeCategory_25 to 29     0.1076      0.144      0.748      0.455      -0.174       0.390\n",
      "AgeCategory_30 to 34     0.4208      0.130      3.237      0.001       0.166       0.676\n",
      "AgeCategory_35 to 39     0.6413      0.122      5.260      0.000       0.402       0.880\n",
      "AgeCategory_40 to 44     1.0318      0.115      8.966      0.000       0.806       1.257\n",
      "AgeCategory_45 to 49     1.2894      0.112     11.556      0.000       1.071       1.508\n",
      "AgeCategory_50 to 54     1.7215      0.107     16.019      0.000       1.511       1.932\n",
      "AgeCategory_55 to 59     1.9253      0.106     18.185      0.000       1.718       2.133\n",
      "AgeCategory_60 to 64     2.1885      0.105     20.875      0.000       1.983       2.394\n",
      "AgeCategory_65 to 69     2.4079      0.104     23.081      0.000       2.203       2.612\n",
      "AgeCategory_70 to 74     2.7293      0.104     26.139      0.000       2.525       2.934\n",
      "AgeCategory_75 to 79     2.9175      0.105     27.778      0.000       2.712       3.123\n",
      "AgeCategory_80 plus      3.1787      0.105     30.369      0.000       2.974       3.384\n",
      "AlcoholDrinking_Yes     -0.2446      0.040     -6.117      0.000      -0.323      -0.166\n",
      "Stroke_Yes               1.0246      0.026     39.147      0.000       0.973       1.076\n",
      "Asthma_Yes              -0.2970      0.022    -13.303      0.000      -0.341      -0.253\n",
      "SkinCancer_Yes           0.1371      0.023      6.017      0.000       0.092       0.182\n",
      "KidneyDisease_Yes       -0.5875      0.028    -21.205      0.000      -0.642      -0.533\n",
      "Diabetic_No             -0.0742      0.124     -0.600      0.549      -0.317       0.168\n",
      "Diabetic_Yes             0.3995      0.124      3.210      0.001       0.156       0.643\n",
      "DiffWalking_Yes          0.2177      0.021     10.439      0.000       0.177       0.259\n",
      "Smoking_Yes              0.3407      0.017     20.416      0.000       0.308       0.373\n",
      "Sex_Male                 0.7028      0.017     41.447      0.000       0.670       0.736\n",
      "GenHealth_Fair           1.4788      0.038     38.894      0.000       1.404       1.553\n",
      "GenHealth_Good           1.0003      0.035     28.962      0.000       0.933       1.068\n",
      "GenHealth_Poor           1.8351      0.047     39.110      0.000       1.743       1.927\n",
      "GenHealth_Very Good      0.4468      0.036     12.579      0.000       0.377       0.516\n",
      "========================================================================================\n"
     ]
    }
   ],
   "source": [
    "# build the model on train data (X_train and y_train)\n",
    "# use fit() to fit the logistic regression model\n",
    "\n",
    "logreg = sm.Logit(y_trainlr,X_trainlr).fit()\n",
    "\n",
    "\n",
    "# print the summary of the model\n",
    "print(logreg.summary())"
   ]
  },
  {
   "cell_type": "code",
   "execution_count": 292,
   "id": "FpQWf6oxxQ9C",
   "metadata": {
    "colab": {
     "base_uri": "https://localhost:8080/"
    },
    "id": "FpQWf6oxxQ9C",
    "outputId": "c8203736-7c68-4fac-80b2-1de80fb21c17"
   },
   "outputs": [
    {
     "name": "stdout",
     "output_type": "stream",
     "text": [
      "AIC: 106930.77397725444\n"
     ]
    }
   ],
   "source": [
    "# 'aic' retuns the AIC value for the model\n",
    "print('AIC:', logreg.aic)"
   ]
  },
  {
   "cell_type": "code",
   "execution_count": 293,
   "id": "nEQdN7bzxRH_",
   "metadata": {
    "id": "nEQdN7bzxRH_"
   },
   "outputs": [],
   "source": [
    "y_predict_train=logreg.predict(X_trainlr)#predict the train data with log model\n",
    "\n",
    "\n",
    "# convert probabilities to 0 and 1 using 'if_else'\n",
    "y_pred = [ 0 if x < 0.5 else 1 for x in y_predict_train]"
   ]
  },
  {
   "cell_type": "code",
   "execution_count": 294,
   "id": "4Ox5RUTOxROu",
   "metadata": {
    "id": "4Ox5RUTOxROu"
   },
   "outputs": [],
   "source": [
    "y_predict_test=logreg.predict(X_testlr)#predict the train data with log model\n",
    "\n",
    "\n",
    "# convert probabilities to 0 and 1 using 'if_else'\n",
    "y_pred_test = [ 0 if x < 0.5 else 1 for x in y_predict_test]"
   ]
  },
  {
   "cell_type": "code",
   "execution_count": 298,
   "id": "FTOBS2oMxRYF",
   "metadata": {
    "colab": {
     "base_uri": "https://localhost:8080/"
    },
    "id": "FTOBS2oMxRYF",
    "outputId": "8d8374ff-94ca-4db3-c1ce-387b7613573c"
   },
   "outputs": [
    {
     "data": {
      "text/plain": [
       "<function __main__.update_score_card>"
      ]
     },
     "execution_count": 298,
     "metadata": {},
     "output_type": "execute_result"
    }
   ],
   "source": [
    "# consider a list of values for cut-off\n",
    "cutoff = [0.1, 0.2, 0.3, 0.4, 0.5, 0.6, 0.7, 0.8, 0.9]\n",
    "\n",
    "# use the for loop to compute performance measures for each value of the cut-off\n",
    "# call the update_score_card() to update the score card for each cut-off\n",
    "# pass the model and cut-off value to the function\n",
    "for value in cutoff:\n",
    "    update_score_card(logreg, value)\n",
    "update_score_card"
   ]
  },
  {
   "cell_type": "code",
   "execution_count": 299,
   "id": "Gl3tqRb2xRiI",
   "metadata": {
    "colab": {
     "base_uri": "https://localhost:8080/",
     "height": 349
    },
    "id": "Gl3tqRb2xRiI",
    "outputId": "5c3509e7-3374-4e60-eae4-388bbab43cfe"
   },
   "outputs": [
    {
     "name": "stdout",
     "output_type": "stream",
     "text": [
      "Score Card for Logistic regression:\n"
     ]
    },
    {
     "data": {
      "text/html": [
       "<style type=\"text/css\">\n",
       "#T_071bb_row0_col1, #T_071bb_row1_col5, #T_071bb_row1_col6, #T_071bb_row5_col4 {\n",
       "  background-color: lightblue;\n",
       "}\n",
       "</style>\n",
       "<table id=\"T_071bb_\" class=\"dataframe\">\n",
       "  <thead>\n",
       "    <tr>\n",
       "      <th class=\"blank level0\" >&nbsp;</th>\n",
       "      <th class=\"col_heading level0 col0\" >Probability Cutoff</th>\n",
       "      <th class=\"col_heading level0 col1\" >AUC Score</th>\n",
       "      <th class=\"col_heading level0 col2\" >Precision Score</th>\n",
       "      <th class=\"col_heading level0 col3\" >Recall Score</th>\n",
       "      <th class=\"col_heading level0 col4\" >Accuracy Score</th>\n",
       "      <th class=\"col_heading level0 col5\" >Kappa Score</th>\n",
       "      <th class=\"col_heading level0 col6\" >f1-score</th>\n",
       "    </tr>\n",
       "  </thead>\n",
       "  <tbody>\n",
       "    <tr>\n",
       "      <th id=\"T_071bb_level0_row0\" class=\"row_heading level0 row0\" >0</th>\n",
       "      <td id=\"T_071bb_row0_col0\" class=\"data row0 col0\" >0.100000</td>\n",
       "      <td id=\"T_071bb_row0_col1\" class=\"data row0 col1\" >0.761198</td>\n",
       "      <td id=\"T_071bb_row0_col2\" class=\"data row0 col2\" >0.240632</td>\n",
       "      <td id=\"T_071bb_row0_col3\" class=\"data row0 col3\" >0.750688</td>\n",
       "      <td id=\"T_071bb_row0_col4\" class=\"data row0 col4\" >0.769861</td>\n",
       "      <td id=\"T_071bb_row0_col5\" class=\"data row0 col5\" >0.266843</td>\n",
       "      <td id=\"T_071bb_row0_col6\" class=\"data row0 col6\" >0.364442</td>\n",
       "    </tr>\n",
       "    <tr>\n",
       "      <th id=\"T_071bb_level0_row1\" class=\"row_heading level0 row1\" >1</th>\n",
       "      <td id=\"T_071bb_row1_col0\" class=\"data row1 col0\" >0.200000</td>\n",
       "      <td id=\"T_071bb_row1_col1\" class=\"data row1 col1\" >0.696938</td>\n",
       "      <td id=\"T_071bb_row1_col2\" class=\"data row1 col2\" >0.341339</td>\n",
       "      <td id=\"T_071bb_row1_col3\" class=\"data row1 col3\" >0.483850</td>\n",
       "      <td id=\"T_071bb_row1_col4\" class=\"data row1 col4\" >0.872566</td>\n",
       "      <td id=\"T_071bb_row1_col5\" class=\"data row1 col5\" >0.331368</td>\n",
       "      <td id=\"T_071bb_row1_col6\" class=\"data row1 col6\" >0.400288</td>\n",
       "    </tr>\n",
       "    <tr>\n",
       "      <th id=\"T_071bb_level0_row2\" class=\"row_heading level0 row2\" >2</th>\n",
       "      <td id=\"T_071bb_row2_col0\" class=\"data row2 col0\" >0.300000</td>\n",
       "      <td id=\"T_071bb_row2_col1\" class=\"data row2 col1\" >0.628783</td>\n",
       "      <td id=\"T_071bb_row2_col2\" class=\"data row2 col2\" >0.416047</td>\n",
       "      <td id=\"T_071bb_row2_col3\" class=\"data row2 col3\" >0.297853</td>\n",
       "      <td id=\"T_071bb_row2_col4\" class=\"data row2 col4\" >0.901537</td>\n",
       "      <td id=\"T_071bb_row2_col5\" class=\"data row2 col5\" >0.295494</td>\n",
       "      <td id=\"T_071bb_row2_col6\" class=\"data row2 col6\" >0.347166</td>\n",
       "    </tr>\n",
       "    <tr>\n",
       "      <th id=\"T_071bb_level0_row3\" class=\"row_heading level0 row3\" >3</th>\n",
       "      <td id=\"T_071bb_row3_col0\" class=\"data row3 col0\" >0.400000</td>\n",
       "      <td id=\"T_071bb_row3_col1\" class=\"data row3 col1\" >0.582402</td>\n",
       "      <td id=\"T_071bb_row3_col2\" class=\"data row3 col2\" >0.481499</td>\n",
       "      <td id=\"T_071bb_row3_col3\" class=\"data row3 col3\" >0.183887</td>\n",
       "      <td id=\"T_071bb_row3_col4\" class=\"data row3 col4\" >0.910861</td>\n",
       "      <td id=\"T_071bb_row3_col5\" class=\"data row3 col5\" >0.228662</td>\n",
       "      <td id=\"T_071bb_row3_col6\" class=\"data row3 col6\" >0.266135</td>\n",
       "    </tr>\n",
       "    <tr>\n",
       "      <th id=\"T_071bb_level0_row4\" class=\"row_heading level0 row4\" >4</th>\n",
       "      <td id=\"T_071bb_row4_col0\" class=\"data row4 col0\" >0.500000</td>\n",
       "      <td id=\"T_071bb_row4_col1\" class=\"data row4 col1\" >0.547730</td>\n",
       "      <td id=\"T_071bb_row4_col2\" class=\"data row4 col2\" >0.526583</td>\n",
       "      <td id=\"T_071bb_row4_col3\" class=\"data row4 col3\" >0.104515</td>\n",
       "      <td id=\"T_071bb_row4_col4\" class=\"data row4 col4\" >0.913031</td>\n",
       "      <td id=\"T_071bb_row4_col5\" class=\"data row4 col5\" >0.149656</td>\n",
       "      <td id=\"T_071bb_row4_col6\" class=\"data row4 col6\" >0.174412</td>\n",
       "    </tr>\n",
       "    <tr>\n",
       "      <th id=\"T_071bb_level0_row5\" class=\"row_heading level0 row5\" >5</th>\n",
       "      <td id=\"T_071bb_row5_col0\" class=\"data row5 col0\" >0.600000</td>\n",
       "      <td id=\"T_071bb_row5_col1\" class=\"data row5 col1\" >0.525162</td>\n",
       "      <td id=\"T_071bb_row5_col2\" class=\"data row5 col2\" >0.583168</td>\n",
       "      <td id=\"T_071bb_row5_col3\" class=\"data row5 col3\" >0.054047</td>\n",
       "      <td id=\"T_071bb_row5_col4\" class=\"data row5 col4\" >0.913458</td>\n",
       "      <td id=\"T_071bb_row5_col5\" class=\"data row5 col5\" >0.085286</td>\n",
       "      <td id=\"T_071bb_row5_col6\" class=\"data row5 col6\" >0.098925</td>\n",
       "    </tr>\n",
       "    <tr>\n",
       "      <th id=\"T_071bb_level0_row6\" class=\"row_heading level0 row6\" >6</th>\n",
       "      <td id=\"T_071bb_row6_col0\" class=\"data row6 col0\" >0.700000</td>\n",
       "      <td id=\"T_071bb_row6_col1\" class=\"data row6 col1\" >0.511148</td>\n",
       "      <td id=\"T_071bb_row6_col2\" class=\"data row6 col2\" >0.654731</td>\n",
       "      <td id=\"T_071bb_row6_col3\" class=\"data row6 col3\" >0.023491</td>\n",
       "      <td id=\"T_071bb_row6_col4\" class=\"data row6 col4\" >0.913079</td>\n",
       "      <td id=\"T_071bb_row6_col5\" class=\"data row6 col5\" >0.039506</td>\n",
       "      <td id=\"T_071bb_row6_col6\" class=\"data row6 col6\" >0.045354</td>\n",
       "    </tr>\n",
       "    <tr>\n",
       "      <th id=\"T_071bb_level0_row7\" class=\"row_heading level0 row7\" >7</th>\n",
       "      <td id=\"T_071bb_row7_col0\" class=\"data row7 col0\" >0.800000</td>\n",
       "      <td id=\"T_071bb_row7_col1\" class=\"data row7 col1\" >0.503608</td>\n",
       "      <td id=\"T_071bb_row7_col2\" class=\"data row7 col2\" >0.851064</td>\n",
       "      <td id=\"T_071bb_row7_col3\" class=\"data row7 col3\" >0.007341</td>\n",
       "      <td id=\"T_071bb_row7_col4\" class=\"data row7 col4\" >0.912635</td>\n",
       "      <td id=\"T_071bb_row7_col5\" class=\"data row7 col5\" >0.013072</td>\n",
       "      <td id=\"T_071bb_row7_col6\" class=\"data row7 col6\" >0.014556</td>\n",
       "    </tr>\n",
       "    <tr>\n",
       "      <th id=\"T_071bb_level0_row8\" class=\"row_heading level0 row8\" >8</th>\n",
       "      <td id=\"T_071bb_row8_col0\" class=\"data row8 col0\" >0.900000</td>\n",
       "      <td id=\"T_071bb_row8_col1\" class=\"data row8 col1\" >0.500271</td>\n",
       "      <td id=\"T_071bb_row8_col2\" class=\"data row8 col2\" >0.857143</td>\n",
       "      <td id=\"T_071bb_row8_col3\" class=\"data row8 col3\" >0.000551</td>\n",
       "      <td id=\"T_071bb_row8_col4\" class=\"data row8 col4\" >0.912143</td>\n",
       "      <td id=\"T_071bb_row8_col5\" class=\"data row8 col5\" >0.000988</td>\n",
       "      <td id=\"T_071bb_row8_col6\" class=\"data row8 col6\" >0.001100</td>\n",
       "    </tr>\n",
       "  </tbody>\n",
       "</table>\n"
      ],
      "text/plain": [
       "<pandas.io.formats.style.Styler at 0x7ff30ef2fc50>"
      ]
     },
     "execution_count": 299,
     "metadata": {},
     "output_type": "execute_result"
    }
   ],
   "source": [
    "# print the score card \n",
    "print('Score Card for Logistic regression:')\n",
    "\n",
    "# sort the dataframe based on the probability cut-off values ascending order\n",
    "# 'reset_index' resets the index of the dataframe\n",
    "# 'drop = True' drops the previous index\n",
    "score_card = score_card.sort_values('Probability Cutoff').reset_index(drop = True)\n",
    "\n",
    "# color the cell in the columns 'AUC Score', 'Accuracy Score', 'Kappa Score', 'f1-score' having maximum values\n",
    "# 'style.highlight_max' assigns color to the maximum value\n",
    "# pass specified color to the parameter, 'color'\n",
    "# pass the data to limit the color assignment to the parameter, 'subset' \n",
    "score_card.style.highlight_max(color = 'lightblue', subset = ['AUC Score', 'Accuracy Score', 'Kappa Score', 'f1-score'])"
   ]
  },
  {
   "cell_type": "code",
   "execution_count": 71,
   "id": "BWChPhoIyqNd",
   "metadata": {
    "id": "BWChPhoIyqNd"
   },
   "outputs": [],
   "source": [
    "#weights = {0:0.5, 1:11.0}\n",
    "#weights={0:0.4, 1:10.0} #good score for class weightage\n",
    "\n",
    "dt_wt = DecisionTreeClassifier(class_weight=weights,criterion = 'entropy',\n",
    "                                   max_depth = 8,\n",
    "                                   max_features = 'sqrt',\n",
    "                                   max_leaf_nodes = 5,\n",
    "                                   min_samples_leaf = 5,\n",
    "                                   min_samples_split = 5,\n",
    "                                   random_state = 10)\n",
    "dt_wt=dt_wt.fit(X_train,y_train)"
   ]
  },
  {
   "cell_type": "code",
   "execution_count": 52,
   "id": "tMEDMjXw7r3S",
   "metadata": {
    "colab": {
     "base_uri": "https://localhost:8080/"
    },
    "id": "tMEDMjXw7r3S",
    "outputId": "b1de1f7a-167e-451b-c523-047741bbe25a"
   },
   "outputs": [
    {
     "name": "stdout",
     "output_type": "stream",
     "text": [
      "              precision    recall  f1-score   support\n",
      "\n",
      "           0       0.99      0.06      0.11     93701\n",
      "           1       0.09      1.00      0.17      9030\n",
      "\n",
      "    accuracy                           0.14    102731\n",
      "   macro avg       0.54      0.53      0.14    102731\n",
      "weighted avg       0.91      0.14      0.11    102731\n",
      "\n"
     ]
    }
   ],
   "source": [
    "test_report = get_test_report(dt_wt) #model predection on test data\n",
    "print(test_report)"
   ]
  },
  {
   "cell_type": "code",
   "execution_count": null,
   "id": "pl0EnDt47sIS",
   "metadata": {
    "id": "pl0EnDt47sIS"
   },
   "outputs": [],
   "source": []
  },
  {
   "cell_type": "code",
   "execution_count": null,
   "id": "JagZ1WT27sUn",
   "metadata": {
    "id": "JagZ1WT27sUn"
   },
   "outputs": [],
   "source": []
  },
  {
   "cell_type": "code",
   "execution_count": 67,
   "id": "HIHs4Xvw5jJv",
   "metadata": {
    "colab": {
     "base_uri": "https://localhost:8080/"
    },
    "id": "HIHs4Xvw5jJv",
    "outputId": "6a88722d-109c-47e7-cd95-33dc3b3b5c30"
   },
   "outputs": [
    {
     "data": {
      "text/plain": [
       "AdaBoostClassifier(base_estimator=DecisionTreeClassifier(class_weight={0: 0.4,\n",
       "                                                                       1: 10.0},\n",
       "                                                         criterion='entropy',\n",
       "                                                         max_depth=8,\n",
       "                                                         max_features='sqrt',\n",
       "                                                         max_leaf_nodes=5,\n",
       "                                                         min_samples_leaf=5,\n",
       "                                                         min_samples_split=5,\n",
       "                                                         random_state=10),\n",
       "                   n_estimators=60, random_state=10)"
      ]
     },
     "execution_count": 67,
     "metadata": {},
     "output_type": "execute_result"
    }
   ],
   "source": [
    "# # instantiate the 'AdaBoostClassifier'\n",
    "# # n_estimators: number of estimators at which boosting is terminated\n",
    "# # pass the 'random_state' to obtain the same results for each code implementation\n",
    "ada_model_dt_wt = AdaBoostClassifier(base_estimator= dt_wt,n_estimators = 60, random_state = 10)\n",
    "\n",
    "#fit the model using fit() on train data\n",
    "ada_model_dt_wt.fit(X_train, y_train)"
   ]
  },
  {
   "cell_type": "code",
   "execution_count": 68,
   "id": "16br7ZSPQ0Sb",
   "metadata": {
    "colab": {
     "base_uri": "https://localhost:8080/"
    },
    "id": "16br7ZSPQ0Sb",
    "outputId": "263886c3-feed-4324-85ad-d027937301cd"
   },
   "outputs": [
    {
     "name": "stdout",
     "output_type": "stream",
     "text": [
      "              precision    recall  f1-score   support\n",
      "\n",
      "           0       0.98      0.55      0.71     93701\n",
      "           1       0.16      0.91      0.28      9030\n",
      "\n",
      "    accuracy                           0.58    102731\n",
      "   macro avg       0.57      0.73      0.49    102731\n",
      "weighted avg       0.91      0.58      0.67    102731\n",
      "\n"
     ]
    }
   ],
   "source": [
    "test_report = get_test_report(ada_model_dt_wt) #model predection on test data\n",
    "print(test_report)"
   ]
  },
  {
   "cell_type": "code",
   "execution_count": 355,
   "id": "-XS4ZNBVKDGj",
   "metadata": {
    "id": "-XS4ZNBVKDGj"
   },
   "outputs": [],
   "source": [
    "grad_model_dt_wt = GradientBoostingClassifier(n_estimators = 60, random_state = 10)\n",
    "grad_model_dt_wt=grad_model_dt_wt.fit(X_train,y_train)\n"
   ]
  },
  {
   "cell_type": "code",
   "execution_count": 356,
   "id": "n8YwX_gN7phK",
   "metadata": {
    "colab": {
     "base_uri": "https://localhost:8080/",
     "height": 546
    },
    "id": "n8YwX_gN7phK",
    "outputId": "c11ddc77-927c-4d93-c45c-931895b35998"
   },
   "outputs": [
    {
     "data": {
      "image/png": "[encoded data removed]",
      "text/plain": [
       "<Figure size 1440x648 with 1 Axes>"
      ]
     },
     "metadata": {
      "needs_background": "light"
     },
     "output_type": "display_data"
    }
   ],
   "source": [
    "# call the function to plot the confusion matrix\n",
    "\n",
    "plot_confusion_matrix(grad_model_dt_wt)"
   ]
  },
  {
   "cell_type": "code",
   "execution_count": 356,
   "id": "GtR1sbonFyVt",
   "metadata": {
    "id": "GtR1sbonFyVt"
   },
   "outputs": [],
   "source": []
  },
  {
   "cell_type": "code",
   "execution_count": 331,
   "id": "ZLJlWOr-8MOT",
   "metadata": {
    "colab": {
     "base_uri": "https://localhost:8080/"
    },
    "id": "ZLJlWOr-8MOT",
    "outputId": "7b53aca3-24f9-4dc9-fcdb-d2a6bff9bb24"
   },
   "outputs": [
    {
     "name": "stdout",
     "output_type": "stream",
     "text": [
      "              precision    recall  f1-score   support\n",
      "\n",
      "           0       0.98      0.57      0.73     93701\n",
      "           1       0.17      0.90      0.29      9030\n",
      "\n",
      "    accuracy                           0.60    102731\n",
      "   macro avg       0.58      0.74      0.51    102731\n",
      "weighted avg       0.91      0.60      0.69    102731\n",
      "\n"
     ]
    }
   ],
   "source": [
    "test_report = get_test_report(ada_model_dt_wt) #model predection on test data\n",
    "print(test_report)"
   ]
  },
  {
   "cell_type": "code",
   "execution_count": 334,
   "id": "s0VoowGO8bLI",
   "metadata": {
    "id": "s0VoowGO8bLI"
   },
   "outputs": [],
   "source": [
    "# define grid for get best class weight\n",
    "balance = [{0:100,1:1}, {0:10,1:1}, {0:1,1:1}, {0:1,1:10}, {0.2:1,1:90},{0:1,1:10},{0:1,1:10},{0:1,1:10},{0:1,1:10}, {0:0.5, 1:11.0}, {0:0.5, 1:13.0}]\n",
    "param_grid = dict(class_weight=balance)"
   ]
  },
  {
   "cell_type": "code",
   "execution_count": 342,
   "id": "MUvwZyhS9qxN",
   "metadata": {
    "colab": {
     "base_uri": "https://localhost:8080/"
    },
    "id": "MUvwZyhS9qxN",
    "outputId": "2b3dc9ed-f473-46c3-e149-11358d5e36bd"
   },
   "outputs": [
    {
     "name": "stdout",
     "output_type": "stream",
     "text": [
      "Best parameters for random forest classifier:  {'class_weight': {0: 0.5, 1: 13.0}} \n",
      "\n"
     ]
    }
   ],
   "source": [
    "# define evaluation procedure\n",
    "from sklearn.model_selection import RepeatedStratifiedKFold\n",
    "cv = RepeatedStratifiedKFold(n_splits=10, n_repeats=3, random_state=1)\n",
    "# define grid search\n",
    "grid = GridSearchCV(estimator=dt_wt, param_grid=param_grid, n_jobs=-1, cv=cv, scoring='recall')\n",
    "\n",
    "# use fit() to fit the model on the train set\n",
    "dt_grid_wt = grid.fit(X_train, y_train)\n",
    "\n",
    "# # get the best parameters\n",
    "print('Best parameters for random forest classifier: ', dt_grid_wt.best_params_, '\\n')"
   ]
  },
  {
   "cell_type": "code",
   "execution_count": null,
   "id": "vGfa1BsS93oZ",
   "metadata": {
    "id": "vGfa1BsS93oZ"
   },
   "outputs": [],
   "source": []
  },
  {
   "cell_type": "code",
   "execution_count": 9,
   "id": "zUONSEX0iJBE",
   "metadata": {
    "colab": {
     "base_uri": "https://localhost:8080/"
    },
    "id": "zUONSEX0iJBE",
    "outputId": "db29a585-a9cb-484f-8469-de063e54cebc"
   },
   "outputs": [
    {
     "data": {
      "text/plain": [
       "LogisticRegression(class_weight='balanced')"
      ]
     },
     "execution_count": 9,
     "metadata": {},
     "output_type": "execute_result"
    }
   ],
   "source": [
    "#logestic regression by sciket learn\n",
    "from sklearn.linear_model import LogisticRegression\n",
    "lgr = LogisticRegression( class_weight='balanced')\n",
    "lgr.fit(X_train, y_train)\n",
    "\n"
   ]
  },
  {
   "cell_type": "code",
   "execution_count": 17,
   "id": "kvB1zPuWj-D7",
   "metadata": {
    "colab": {
     "base_uri": "https://localhost:8080/",
     "height": 492
    },
    "id": "kvB1zPuWj-D7",
    "outputId": "1eb9c198-7129-4c55-e41c-ee2019511431"
   },
   "outputs": [
    {
     "data": {
      "image/png": "[encoded data removed]",
      "text/plain": [
       "<Figure size 1080x576 with 1 Axes>"
      ]
     },
     "metadata": {
      "needs_background": "light"
     },
     "output_type": "display_data"
    }
   ],
   "source": [
    "# call the function to plot the confusion matrix\n",
    "\n",
    "plot_confusion_matrix(lgr)"
   ]
  },
  {
   "cell_type": "code",
   "execution_count": 18,
   "id": "4hXfblnjj-MV",
   "metadata": {
    "colab": {
     "base_uri": "https://localhost:8080/"
    },
    "id": "4hXfblnjj-MV",
    "outputId": "608c77ad-5c40-4008-a0bc-12047c28240b"
   },
   "outputs": [
    {
     "name": "stdout",
     "output_type": "stream",
     "text": [
      "              precision    recall  f1-score   support\n",
      "\n",
      "           0       0.97      0.75      0.85     93701\n",
      "           1       0.23      0.77      0.35      9030\n",
      "\n",
      "    accuracy                           0.75    102731\n",
      "   macro avg       0.60      0.76      0.60    102731\n",
      "weighted avg       0.91      0.75      0.80    102731\n",
      "\n"
     ]
    }
   ],
   "source": [
    "test_report = get_test_report(lgr) #model predection on test data\n",
    "print(test_report)"
   ]
  },
  {
   "cell_type": "code",
   "execution_count": 75,
   "id": "CJOuhS-Ij-Pc",
   "metadata": {
    "colab": {
     "base_uri": "https://localhost:8080/"
    },
    "id": "CJOuhS-Ij-Pc",
    "outputId": "9ab1e999-d690-44f7-f166-e2b2b13dd23a"
   },
   "outputs": [
    {
     "name": "stdout",
     "output_type": "stream",
     "text": [
      "              precision    recall  f1-score   support\n",
      "\n",
      "           0       0.97      0.75      0.85    229405\n",
      "           1       0.23      0.77      0.35     22107\n",
      "\n",
      "    accuracy                           0.75    251512\n",
      "   macro avg       0.60      0.76      0.60    251512\n",
      "weighted avg       0.91      0.75      0.80    251512\n",
      "\n"
     ]
    }
   ],
   "source": [
    "print( get_train_report(lgr))"
   ]
  },
  {
   "cell_type": "code",
   "execution_count": 78,
   "id": "XPnKi5WktKjs",
   "metadata": {
    "colab": {
     "base_uri": "https://localhost:8080/",
     "height": 537
    },
    "id": "XPnKi5WktKjs",
    "outputId": "4f2efcb3-1970-4bd4-9de4-e405798a6a1c"
   },
   "outputs": [
    {
     "name": "stdout",
     "output_type": "stream",
     "text": [
      "0.8359615685968337\n"
     ]
    },
    {
     "data": {
      "image/png": "[encoded data removed]",
      "text/plain": [
       "<Figure size 1080x576 with 1 Axes>"
      ]
     },
     "metadata": {
      "needs_background": "light"
     },
     "output_type": "display_data"
    }
   ],
   "source": [
    "plot_roc(lgr)"
   ]
  },
  {
   "cell_type": "code",
   "execution_count": 10,
   "id": "o5uOiq8TiR9E",
   "metadata": {
    "colab": {
     "base_uri": "https://localhost:8080/"
    },
    "id": "o5uOiq8TiR9E",
    "outputId": "11b2db35-221f-4576-e7bb-bac50cc0a044"
   },
   "outputs": [
    {
     "data": {
      "text/plain": [
       "AdaBoostClassifier(base_estimator=LogisticRegression(class_weight='balanced'),\n",
       "                   n_estimators=60, random_state=10)"
      ]
     },
     "execution_count": 10,
     "metadata": {},
     "output_type": "execute_result"
    }
   ],
   "source": [
    "# # instantiate the 'AdaBoostClassifier'\n",
    "# # n_estimators: number of estimators at which boosting is terminated\n",
    "# # pass the 'random_state' to obtain the same results for each code implementation\n",
    "ada_model_lgr_wt = AdaBoostClassifier(base_estimator= lgr,n_estimators = 60, random_state = 10)\n",
    "\n",
    "#fit the model using fit() on train data\n",
    "ada_model_lgr_wt.fit(X_train, y_train)"
   ]
  },
  {
   "cell_type": "code",
   "execution_count": 11,
   "id": "LJEXKoxBilwc",
   "metadata": {
    "colab": {
     "base_uri": "https://localhost:8080/",
     "height": 492
    },
    "id": "LJEXKoxBilwc",
    "outputId": "7cd95365-b715-4db1-c370-bd6be721d407"
   },
   "outputs": [
    {
     "data": {
      "image/png": "[encoded data removed]",
      "text/plain": [
       "<Figure size 1080x576 with 1 Axes>"
      ]
     },
     "metadata": {
      "needs_background": "light"
     },
     "output_type": "display_data"
    }
   ],
   "source": [
    "# call the function to plot the confusion matrix\n",
    "\n",
    "plot_confusion_matrix(ada_model_lgr_wt)"
   ]
  },
  {
   "cell_type": "code",
   "execution_count": 13,
   "id": "y6g82Fhjixix",
   "metadata": {
    "colab": {
     "base_uri": "https://localhost:8080/"
    },
    "id": "y6g82Fhjixix",
    "outputId": "3167ebbc-fb16-420a-bd2e-90c623b5949a"
   },
   "outputs": [
    {
     "name": "stdout",
     "output_type": "stream",
     "text": [
      "              precision    recall  f1-score   support\n",
      "\n",
      "           0       0.97      0.78      0.86     93701\n",
      "           1       0.24      0.72      0.36      9030\n",
      "\n",
      "    accuracy                           0.77    102731\n",
      "   macro avg       0.60      0.75      0.61    102731\n",
      "weighted avg       0.90      0.77      0.82    102731\n",
      "\n"
     ]
    }
   ],
   "source": [
    "test_report = get_test_report(ada_model_lgr_wt) #model predection on test data\n",
    "print(test_report)"
   ]
  },
  {
   "cell_type": "code",
   "execution_count": 16,
   "id": "OpqRHcHYjQ8q",
   "metadata": {
    "colab": {
     "base_uri": "https://localhost:8080/"
    },
    "id": "OpqRHcHYjQ8q",
    "outputId": "8518c36c-ec9f-4388-f7dc-315c6b05a05b"
   },
   "outputs": [
    {
     "name": "stdout",
     "output_type": "stream",
     "text": [
      "              precision    recall  f1-score   support\n",
      "\n",
      "           0       0.97      0.78      0.86    229405\n",
      "           1       0.24      0.73      0.36     22107\n",
      "\n",
      "    accuracy                           0.77    251512\n",
      "   macro avg       0.60      0.75      0.61    251512\n",
      "weighted avg       0.90      0.77      0.82    251512\n",
      "\n"
     ]
    }
   ],
   "source": [
    "print( get_train_report(ada_model_lgr_wt))"
   ]
  },
  {
   "cell_type": "code",
   "execution_count": 83,
   "id": "EDdDJid7jq5y",
   "metadata": {
    "colab": {
     "base_uri": "https://localhost:8080/",
     "height": 537
    },
    "id": "EDdDJid7jq5y",
    "outputId": "2067aeda-d2d7-420b-d9fa-d6649f168397"
   },
   "outputs": [
    {
     "name": "stdout",
     "output_type": "stream",
     "text": [
      "0.8267591768274296\n"
     ]
    },
    {
     "data": {
      "image/png": "[encoded data removed]",
      "text/plain": [
       "<Figure size 1080x576 with 1 Axes>"
      ]
     },
     "metadata": {
      "needs_background": "light"
     },
     "output_type": "display_data"
    }
   ],
   "source": [
    "plot_roc(ada_model_lgr_wt)"
   ]
  },
  {
   "cell_type": "code",
   "execution_count": null,
   "id": "weI_g78JlDUQ",
   "metadata": {
    "id": "weI_g78JlDUQ"
   },
   "outputs": [],
   "source": [
    "#############################feature engineered ###############################"
   ]
  },
  {
   "cell_type": "code",
   "execution_count": null,
   "id": "53RVliZxlD3p",
   "metadata": {
    "id": "53RVliZxlD3p"
   },
   "outputs": [],
   "source": []
  },
  {
   "cell_type": "code",
   "execution_count": 85,
   "id": "WeODZJOelEZ9",
   "metadata": {
    "colab": {
     "base_uri": "https://localhost:8080/"
    },
    "id": "WeODZJOelEZ9",
    "outputId": "12dd5083-9741-4fcf-a110-e59e657a26cf"
   },
   "outputs": [
    {
     "data": {
      "text/plain": [
       "LogisticRegression(class_weight='balanced')"
      ]
     },
     "execution_count": 85,
     "metadata": {},
     "output_type": "execute_result"
    }
   ],
   "source": [
    "#logestic regression by sciket learn\n",
    "from sklearn.linear_model import LogisticRegression\n",
    "lgr_fe = LogisticRegression( class_weight='balanced')\n",
    "lgr_fe.fit(X_train, y_train)\n",
    "\n"
   ]
  },
  {
   "cell_type": "code",
   "execution_count": 30,
   "id": "-kRqnuc2lEZ9",
   "metadata": {
    "colab": {
     "base_uri": "https://localhost:8080/",
     "height": 492
    },
    "id": "-kRqnuc2lEZ9",
    "outputId": "95528b2e-d247-45bd-9deb-cc01d0dca4b0"
   },
   "outputs": [
    {
     "data": {
      "image/png": "[encoded data removed]",
      "text/plain": [
       "<Figure size 1080x576 with 1 Axes>"
      ]
     },
     "metadata": {
      "needs_background": "light"
     },
     "output_type": "display_data"
    }
   ],
   "source": [
    "# call the function to plot the confusion matrix\n",
    "\n",
    "plot_confusion_matrix(lgr_fe)"
   ]
  },
  {
   "cell_type": "code",
   "execution_count": 86,
   "id": "fvLVL4-dlEZ-",
   "metadata": {
    "colab": {
     "base_uri": "https://localhost:8080/"
    },
    "id": "fvLVL4-dlEZ-",
    "outputId": "fcf40da8-b816-474d-90a6-fdd802edc261"
   },
   "outputs": [
    {
     "name": "stdout",
     "output_type": "stream",
     "text": [
      "              precision    recall  f1-score   support\n",
      "\n",
      "           0       0.97      0.75      0.85     93701\n",
      "           1       0.23      0.77      0.35      9030\n",
      "\n",
      "    accuracy                           0.75    102731\n",
      "   macro avg       0.60      0.76      0.60    102731\n",
      "weighted avg       0.91      0.75      0.80    102731\n",
      "\n"
     ]
    }
   ],
   "source": [
    "test_report = get_test_report(lgr_fe) #model predection on test data\n",
    "print(test_report)"
   ]
  },
  {
   "cell_type": "code",
   "execution_count": 87,
   "id": "Q1KHP64rlEZ-",
   "metadata": {
    "colab": {
     "base_uri": "https://localhost:8080/"
    },
    "id": "Q1KHP64rlEZ-",
    "outputId": "9f7ffa0a-8916-4f1f-8699-c7e6360df757"
   },
   "outputs": [
    {
     "name": "stdout",
     "output_type": "stream",
     "text": [
      "              precision    recall  f1-score   support\n",
      "\n",
      "           0       0.97      0.75      0.85    229405\n",
      "           1       0.23      0.77      0.35     22107\n",
      "\n",
      "    accuracy                           0.75    251512\n",
      "   macro avg       0.60      0.76      0.60    251512\n",
      "weighted avg       0.91      0.75      0.80    251512\n",
      "\n"
     ]
    }
   ],
   "source": [
    "print( get_train_report(lgr_fe))"
   ]
  },
  {
   "cell_type": "code",
   "execution_count": 88,
   "id": "OTBdyILOs5Fk",
   "metadata": {
    "colab": {
     "base_uri": "https://localhost:8080/",
     "height": 537
    },
    "id": "OTBdyILOs5Fk",
    "outputId": "226149cb-02ed-44c4-caf3-43a634a514a6"
   },
   "outputs": [
    {
     "name": "stdout",
     "output_type": "stream",
     "text": [
      "0.8359615685968337\n"
     ]
    },
    {
     "data": {
      "image/png": "[encoded data removed]",
      "text/plain": [
       "<Figure size 1080x576 with 1 Axes>"
      ]
     },
     "metadata": {
      "needs_background": "light"
     },
     "output_type": "display_data"
    }
   ],
   "source": [
    "plot_roc(lgr_fe)"
   ]
  },
  {
   "cell_type": "code",
   "execution_count": 100,
   "id": "CAKk2yGh92cz",
   "metadata": {
    "id": "CAKk2yGh92cz"
   },
   "outputs": [],
   "source": []
  },
  {
   "cell_type": "code",
   "execution_count": 93,
   "id": "_UIEsc8ElEZ-",
   "metadata": {
    "colab": {
     "base_uri": "https://localhost:8080/"
    },
    "id": "_UIEsc8ElEZ-",
    "outputId": "e4a8e89f-3427-4318-d0fb-8955daa01b97"
   },
   "outputs": [
    {
     "data": {
      "text/plain": [
       "AdaBoostClassifier(base_estimator=LogisticRegression(class_weight='balanced'),\n",
       "                   n_estimators=60, random_state=10)"
      ]
     },
     "execution_count": 93,
     "metadata": {},
     "output_type": "execute_result"
    }
   ],
   "source": [
    "# # instantiate the 'AdaBoostClassifier'\n",
    "# # n_estimators: number of estimators at which boosting is terminated\n",
    "# # pass the 'random_state' to obtain the same results for each code implementation\n",
    "ada_model_lgr_wt_fe = AdaBoostClassifier(base_estimator= lgr_fe,n_estimators = 60, random_state = 10)\n",
    "\n",
    "#fit the model using fit() on train data\n",
    "ada_model_lgr_wt_fe.fit(X_train, y_train)"
   ]
  },
  {
   "cell_type": "code",
   "execution_count": null,
   "id": "41krZh9R8P1s",
   "metadata": {
    "colab": {
     "base_uri": "https://localhost:8080/",
     "height": 433
    },
    "id": "41krZh9R8P1s",
    "outputId": "0c4d9dcb-63ae-4b24-b934-6069c881773b"
   },
   "outputs": [],
   "source": []
  },
  {
   "cell_type": "code",
   "execution_count": 94,
   "id": "h17Y8XJGlEZ-",
   "metadata": {
    "colab": {
     "base_uri": "https://localhost:8080/",
     "height": 492
    },
    "id": "h17Y8XJGlEZ-",
    "outputId": "de070ee0-b818-4822-ea0d-20edaad62df3"
   },
   "outputs": [
    {
     "data": {
      "image/png": "[encoded data removed]",
      "text/plain": [
       "<Figure size 1080x576 with 1 Axes>"
      ]
     },
     "metadata": {
      "needs_background": "light"
     },
     "output_type": "display_data"
    }
   ],
   "source": [
    "# call the function to plot the confusion matrix\n",
    "\n",
    "plot_confusion_matrix(ada_model_lgr_wt_fe)"
   ]
  },
  {
   "cell_type": "code",
   "execution_count": 95,
   "id": "meMAoNsxlEZ_",
   "metadata": {
    "colab": {
     "base_uri": "https://localhost:8080/"
    },
    "id": "meMAoNsxlEZ_",
    "outputId": "35945242-a72f-4d61-c1d5-917b57e75a95"
   },
   "outputs": [
    {
     "name": "stdout",
     "output_type": "stream",
     "text": [
      "              precision    recall  f1-score   support\n",
      "\n",
      "           0       0.97      0.78      0.86     93701\n",
      "           1       0.24      0.72      0.36      9030\n",
      "\n",
      "    accuracy                           0.77    102731\n",
      "   macro avg       0.60      0.75      0.61    102731\n",
      "weighted avg       0.90      0.77      0.82    102731\n",
      "\n"
     ]
    }
   ],
   "source": [
    "test_report = get_test_report(ada_model_lgr_wt_fe) #model predection on test data\n",
    "print(test_report)"
   ]
  },
  {
   "cell_type": "code",
   "execution_count": 96,
   "id": "rSvByuWVlEZ_",
   "metadata": {
    "colab": {
     "base_uri": "https://localhost:8080/"
    },
    "id": "rSvByuWVlEZ_",
    "outputId": "8347e564-d1d3-4e14-f53b-0e2916ee2b91"
   },
   "outputs": [
    {
     "name": "stdout",
     "output_type": "stream",
     "text": [
      "              precision    recall  f1-score   support\n",
      "\n",
      "           0       0.97      0.78      0.86    229405\n",
      "           1       0.24      0.73      0.36     22107\n",
      "\n",
      "    accuracy                           0.77    251512\n",
      "   macro avg       0.60      0.75      0.61    251512\n",
      "weighted avg       0.90      0.77      0.82    251512\n",
      "\n"
     ]
    }
   ],
   "source": [
    "print( get_train_report(ada_model_lgr_wt_fe))"
   ]
  },
  {
   "cell_type": "code",
   "execution_count": 97,
   "id": "SHzKF3oxlEaA",
   "metadata": {
    "colab": {
     "base_uri": "https://localhost:8080/",
     "height": 537
    },
    "id": "SHzKF3oxlEaA",
    "outputId": "29d349c9-c9f4-4247-8fe1-a94fdf26102b"
   },
   "outputs": [
    {
     "name": "stdout",
     "output_type": "stream",
     "text": [
      "0.8267591768274296\n"
     ]
    },
    {
     "data": {
      "image/png": "[encoded data removed]",
      "text/plain": [
       "<Figure size 1080x576 with 1 Axes>"
      ]
     },
     "metadata": {
      "needs_background": "light"
     },
     "output_type": "display_data"
    }
   ],
   "source": [
    "plot_roc(ada_model_lgr_wt_fe)"
   ]
  },
  {
   "cell_type": "code",
   "execution_count": 81,
   "id": "xK1NtrNvtuME",
   "metadata": {
    "id": "xK1NtrNvtuME"
   },
   "outputs": [],
   "source": [
    "#this will capture the all score of the data\n",
    "model_all=[lgr_fe,ada_model_lgr_wt_fe]\n",
    "model_scores = { \"Model Name\" : [],\n",
    "                \"Accuracy score train\" : [],\n",
    "               \"Precision_score train\" : [],\n",
    "               \"Recall_Score train\" : [],\n",
    "               \"Roc_AUC_Score train\" : [],\n",
    "                \"F1-Score Train\" : [],\n",
    "               \"Accuracy score test\" : [],\n",
    "               \"Precision_score test\" : [],\n",
    "               \"Recall_Score test\" : [],\n",
    "               \"Roc_AUC_Score test\" : [],\n",
    "               \"F1-Score test\" : []}\n",
    "\n",
    "for model in model_all:\n",
    "    \n",
    "    model_scores['Model Name'].append(str(model))\n",
    "    pred_tr = model.predict(X_train)\n",
    "    model_scores['Accuracy score train'].append(model.score(X_train,y_train))\n",
    "     \n",
    "    model_scores['Precision_score train'].append(precision_score(y_train,pred_tr))\n",
    "    model_scores['Recall_Score train'].append(recall_score(y_train,pred_tr))\n",
    "    model_scores['Roc_AUC_Score train'].append(roc_auc_score(y_train,pred_tr))\n",
    "    model_scores['F1-Score Train'].append(f1_score(y_train,pred_tr))\n",
    "    \n",
    "    pred_ts = model.predict(X_test) \n",
    "    model_scores['Accuracy score test'].append(model.score(X_test,y_test))\n",
    "     \n",
    "    model_scores['Precision_score test'].append(precision_score(y_test,pred_ts))\n",
    "    model_scores['Recall_Score test'].append(recall_score(y_test,pred_ts))\n",
    "    model_scores['Roc_AUC_Score test'].append(roc_auc_score(y_test,pred_ts))\n",
    "    model_scores['F1-Score test'].append(f1_score(y_test,pred_ts))\n",
    "\n",
    "scores_df=pd.DataFrame(model_scores)"
   ]
  },
  {
   "cell_type": "code",
   "execution_count": null,
   "id": "G65FPtRh3ZQT",
   "metadata": {
    "colab": {
     "base_uri": "https://localhost:8080/",
     "height": 211
    },
    "id": "G65FPtRh3ZQT",
    "outputId": "94537076-e2c6-436c-856a-dfde0f20dd0f"
   },
   "outputs": [],
   "source": []
  },
  {
   "cell_type": "code",
   "execution_count": null,
   "id": "a1e80262",
   "metadata": {},
   "outputs": [],
   "source": []
  }
 ],
 "metadata": {
  "colab": {
   "collapsed_sections": [],
   "name": "Smote model.ipynb",
   "provenance": []
  },
  "kernelspec": {
   "display_name": "Python 3 (ipykernel)",
   "language": "python",
   "name": "python3"
  },
  "language_info": {
   "codemirror_mode": {
    "name": "ipython",
    "version": 3
   },
   "file_extension": ".py",
   "mimetype": "text/x-python",
   "name": "python",
   "nbconvert_exporter": "python",
   "pygments_lexer": "ipython3",
   "version": "3.9.7"
  }
 },
 "nbformat": 4,
 "nbformat_minor": 5
}
